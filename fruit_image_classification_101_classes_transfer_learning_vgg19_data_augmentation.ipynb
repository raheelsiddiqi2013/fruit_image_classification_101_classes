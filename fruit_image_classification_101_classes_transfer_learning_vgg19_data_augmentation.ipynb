{
 "cells": [
  {
   "cell_type": "markdown",
   "metadata": {},
   "source": [
    "# Fruit Image Classification using VGG19\n",
    "This notebook is written end executed by **Dr Raheel Siddiqi** on 08-05-2019. The notebook presents an experiment to classify fruit images using *tranfer learning*. [Fruits 360](https://www.kaggle.com/moltean/fruits) dataset (containing 52262 training images and 17540 test images belonging to **101** fruit classes) has been exploited for the task. The model designed uses **VGG19** pre-trained model as the convolutional base.\n",
    "## Setting up the model"
   ]
  },
  {
   "cell_type": "code",
   "execution_count": 1,
   "metadata": {},
   "outputs": [
    {
     "name": "stdout",
     "output_type": "stream",
     "text": [
      "WARNING:tensorflow:From C:\\Users\\Raheel\\Anaconda3\\envs\\EnvName\\lib\\site-packages\\tensorflow\\python\\ops\\resource_variable_ops.py:435: colocate_with (from tensorflow.python.framework.ops) is deprecated and will be removed in a future version.\n",
      "Instructions for updating:\n",
      "Colocations handled automatically by placer.\n"
     ]
    }
   ],
   "source": [
    "from tensorflow.python.keras.applications.vgg19 import VGG19\n",
    "\n",
    "conv_base=VGG19(weights='imagenet',include_top=False,input_shape=(100,100,3))"
   ]
  },
  {
   "cell_type": "code",
   "execution_count": 2,
   "metadata": {},
   "outputs": [
    {
     "name": "stdout",
     "output_type": "stream",
     "text": [
      "_________________________________________________________________\n",
      "Layer (type)                 Output Shape              Param #   \n",
      "=================================================================\n",
      "input_1 (InputLayer)         (None, 100, 100, 3)       0         \n",
      "_________________________________________________________________\n",
      "block1_conv1 (Conv2D)        (None, 100, 100, 64)      1792      \n",
      "_________________________________________________________________\n",
      "block1_conv2 (Conv2D)        (None, 100, 100, 64)      36928     \n",
      "_________________________________________________________________\n",
      "block1_pool (MaxPooling2D)   (None, 50, 50, 64)        0         \n",
      "_________________________________________________________________\n",
      "block2_conv1 (Conv2D)        (None, 50, 50, 128)       73856     \n",
      "_________________________________________________________________\n",
      "block2_conv2 (Conv2D)        (None, 50, 50, 128)       147584    \n",
      "_________________________________________________________________\n",
      "block2_pool (MaxPooling2D)   (None, 25, 25, 128)       0         \n",
      "_________________________________________________________________\n",
      "block3_conv1 (Conv2D)        (None, 25, 25, 256)       295168    \n",
      "_________________________________________________________________\n",
      "block3_conv2 (Conv2D)        (None, 25, 25, 256)       590080    \n",
      "_________________________________________________________________\n",
      "block3_conv3 (Conv2D)        (None, 25, 25, 256)       590080    \n",
      "_________________________________________________________________\n",
      "block3_conv4 (Conv2D)        (None, 25, 25, 256)       590080    \n",
      "_________________________________________________________________\n",
      "block3_pool (MaxPooling2D)   (None, 12, 12, 256)       0         \n",
      "_________________________________________________________________\n",
      "block4_conv1 (Conv2D)        (None, 12, 12, 512)       1180160   \n",
      "_________________________________________________________________\n",
      "block4_conv2 (Conv2D)        (None, 12, 12, 512)       2359808   \n",
      "_________________________________________________________________\n",
      "block4_conv3 (Conv2D)        (None, 12, 12, 512)       2359808   \n",
      "_________________________________________________________________\n",
      "block4_conv4 (Conv2D)        (None, 12, 12, 512)       2359808   \n",
      "_________________________________________________________________\n",
      "block4_pool (MaxPooling2D)   (None, 6, 6, 512)         0         \n",
      "_________________________________________________________________\n",
      "block5_conv1 (Conv2D)        (None, 6, 6, 512)         2359808   \n",
      "_________________________________________________________________\n",
      "block5_conv2 (Conv2D)        (None, 6, 6, 512)         2359808   \n",
      "_________________________________________________________________\n",
      "block5_conv3 (Conv2D)        (None, 6, 6, 512)         2359808   \n",
      "_________________________________________________________________\n",
      "block5_conv4 (Conv2D)        (None, 6, 6, 512)         2359808   \n",
      "_________________________________________________________________\n",
      "block5_pool (MaxPooling2D)   (None, 3, 3, 512)         0         \n",
      "=================================================================\n",
      "Total params: 20,024,384\n",
      "Trainable params: 20,024,384\n",
      "Non-trainable params: 0\n",
      "_________________________________________________________________\n"
     ]
    }
   ],
   "source": [
    "conv_base.summary()"
   ]
  },
  {
   "cell_type": "code",
   "execution_count": 3,
   "metadata": {},
   "outputs": [],
   "source": [
    "import os\n",
    "import numpy as np\n",
    "from tensorflow.python.keras.preprocessing.image import ImageDataGenerator"
   ]
  },
  {
   "cell_type": "code",
   "execution_count": 4,
   "metadata": {},
   "outputs": [],
   "source": [
    "from tensorflow.python.keras import models\n",
    "from tensorflow.python.keras import layers\n",
    "\n",
    "model = models.Sequential()\n",
    "model.add(conv_base)\n",
    "model.add(layers.Flatten())\n",
    "model.add(layers.Dense(512, activation='relu'))\n",
    "model.add(layers.Dense(101, activation='softmax'))"
   ]
  },
  {
   "cell_type": "code",
   "execution_count": 5,
   "metadata": {},
   "outputs": [
    {
     "name": "stdout",
     "output_type": "stream",
     "text": [
      "_________________________________________________________________\n",
      "Layer (type)                 Output Shape              Param #   \n",
      "=================================================================\n",
      "vgg19 (Model)                (None, 3, 3, 512)         20024384  \n",
      "_________________________________________________________________\n",
      "flatten (Flatten)            (None, 4608)              0         \n",
      "_________________________________________________________________\n",
      "dense (Dense)                (None, 512)               2359808   \n",
      "_________________________________________________________________\n",
      "dense_1 (Dense)              (None, 101)               51813     \n",
      "=================================================================\n",
      "Total params: 22,436,005\n",
      "Trainable params: 22,436,005\n",
      "Non-trainable params: 0\n",
      "_________________________________________________________________\n"
     ]
    }
   ],
   "source": [
    "model.summary()"
   ]
  },
  {
   "cell_type": "markdown",
   "metadata": {},
   "source": [
    "## Setting up Training and Validation Data"
   ]
  },
  {
   "cell_type": "code",
   "execution_count": 6,
   "metadata": {},
   "outputs": [],
   "source": [
    "train_dir='D:\\\\TensorFlow Programs\\\\fruit_image_classification_101_classes\\\\fruits\\\\fruits-360\\\\Training'"
   ]
  },
  {
   "cell_type": "code",
   "execution_count": 7,
   "metadata": {},
   "outputs": [],
   "source": [
    "validation_dir='D:\\\\TensorFlow Programs\\\\fruit_image_classification_101_classes\\\\fruits\\\\fruits-360\\\\Test'"
   ]
  },
  {
   "cell_type": "code",
   "execution_count": 8,
   "metadata": {},
   "outputs": [],
   "source": [
    "from tensorflow.python.keras import optimizers\n",
    "\n",
    "model.compile(loss='categorical_crossentropy',optimizer=optimizers.Adam(lr=1e-4),metrics=['categorical_accuracy'])"
   ]
  },
  {
   "cell_type": "code",
   "execution_count": 9,
   "metadata": {},
   "outputs": [
    {
     "name": "stdout",
     "output_type": "stream",
     "text": [
      "Found 52262 images belonging to 101 classes.\n",
      "Found 17540 images belonging to 101 classes.\n"
     ]
    }
   ],
   "source": [
    "train_datagen = ImageDataGenerator(\n",
    "    rescale=1./255,\n",
    "    rotation_range=40,\n",
    "    width_shift_range=0.2,\n",
    "    height_shift_range=0.2,\n",
    "    shear_range=0.2,\n",
    "    zoom_range=0.2,\n",
    "    horizontal_flip=True,)\n",
    "\n",
    "# Note that the validation data should not be augmented!\n",
    "test_datagen = ImageDataGenerator(rescale=1./255)\n",
    "\n",
    "train_generator = train_datagen.flow_from_directory(\n",
    "        # This is the target directory\n",
    "        train_dir,\n",
    "        target_size=(100, 100),\n",
    "        batch_size=32)\n",
    "\n",
    "validation_generator = test_datagen.flow_from_directory(\n",
    "        validation_dir,\n",
    "        target_size=(100, 100),\n",
    "        batch_size=32, shuffle=False)"
   ]
  },
  {
   "cell_type": "markdown",
   "metadata": {},
   "source": [
    "## Model Training"
   ]
  },
  {
   "cell_type": "code",
   "execution_count": 10,
   "metadata": {},
   "outputs": [
    {
     "name": "stdout",
     "output_type": "stream",
     "text": [
      "WARNING:tensorflow:From C:\\Users\\Raheel\\Anaconda3\\envs\\EnvName\\lib\\site-packages\\tensorflow\\python\\ops\\math_ops.py:3066: to_int32 (from tensorflow.python.ops.math_ops) is deprecated and will be removed in a future version.\n",
      "Instructions for updating:\n",
      "Use tf.cast instead.\n",
      "Epoch 1/50\n",
      "549/549 [==============================] - 59s 107ms/step - loss: 0.5072 - categorical_accuracy: 0.8326\n",
      "1634/1634 [==============================] - 1035s 633ms/step - loss: 1.7898 - categorical_accuracy: 0.5150 - val_loss: 0.5072 - val_categorical_accuracy: 0.8326\n",
      "Epoch 2/50\n",
      "549/549 [==============================] - 56s 102ms/step - loss: 0.0925 - categorical_accuracy: 0.9684\n",
      "1634/1634 [==============================] - 562s 344ms/step - loss: 0.2902 - categorical_accuracy: 0.9071 - val_loss: 0.0925 - val_categorical_accuracy: 0.9684\n",
      "Epoch 3/50\n",
      "549/549 [==============================] - 56s 102ms/step - loss: 0.0839 - categorical_accuracy: 0.9745\n",
      "1634/1634 [==============================] - 557s 341ms/step - loss: 0.1640 - categorical_accuracy: 0.9480 - val_loss: 0.0839 - val_categorical_accuracy: 0.9745\n",
      "Epoch 4/50\n",
      "549/549 [==============================] - 59s 107ms/step - loss: 0.1421 - categorical_accuracy: 0.9497\n",
      "1634/1634 [==============================] - 555s 340ms/step - loss: 0.1196 - categorical_accuracy: 0.9626 - val_loss: 0.1421 - val_categorical_accuracy: 0.9497\n",
      "Epoch 5/50\n",
      "549/549 [==============================] - 54s 98ms/step - loss: 0.1003 - categorical_accuracy: 0.9684\n",
      "1634/1634 [==============================] - 551s 337ms/step - loss: 0.1184 - categorical_accuracy: 0.9674 - val_loss: 0.1003 - val_categorical_accuracy: 0.9684\n",
      "Epoch 6/50\n",
      "549/549 [==============================] - 54s 99ms/step - loss: 0.0219 - categorical_accuracy: 0.9954\n",
      "1634/1634 [==============================] - 550s 337ms/step - loss: 0.0834 - categorical_accuracy: 0.9742 - val_loss: 0.0219 - val_categorical_accuracy: 0.9954\n",
      "Epoch 7/50\n",
      "549/549 [==============================] - 58s 105ms/step - loss: 0.1271 - categorical_accuracy: 0.9812\n",
      "1634/1634 [==============================] - 601s 368ms/step - loss: 0.0705 - categorical_accuracy: 0.9798 - val_loss: 0.1271 - val_categorical_accuracy: 0.9812\n",
      "Epoch 8/50\n",
      "549/549 [==============================] - 55s 100ms/step - loss: 0.1433 - categorical_accuracy: 0.9637\n",
      "1634/1634 [==============================] - 556s 340ms/step - loss: 0.0682 - categorical_accuracy: 0.9799 - val_loss: 0.1433 - val_categorical_accuracy: 0.9637\n",
      "Epoch 9/50\n",
      "549/549 [==============================] - 54s 98ms/step - loss: 0.1149 - categorical_accuracy: 0.9746\n",
      "1634/1634 [==============================] - 548s 335ms/step - loss: 0.0641 - categorical_accuracy: 0.9805 - val_loss: 0.1149 - val_categorical_accuracy: 0.9746\n",
      "Epoch 10/50\n",
      "549/549 [==============================] - 53s 97ms/step - loss: 0.0776 - categorical_accuracy: 0.9779\n",
      "1634/1634 [==============================] - 549s 336ms/step - loss: 0.0500 - categorical_accuracy: 0.9858 - val_loss: 0.0776 - val_categorical_accuracy: 0.9779\n",
      "Epoch 11/50\n",
      "549/549 [==============================] - 54s 98ms/step - loss: 0.0952 - categorical_accuracy: 0.9729\n",
      "1634/1634 [==============================] - 553s 338ms/step - loss: 0.0506 - categorical_accuracy: 0.9852 - val_loss: 0.0952 - val_categorical_accuracy: 0.9729\n",
      "Epoch 12/50\n",
      "549/549 [==============================] - 53s 97ms/step - loss: 0.0063 - categorical_accuracy: 0.9987\n",
      "1634/1634 [==============================] - 549s 336ms/step - loss: 0.0537 - categorical_accuracy: 0.9851 - val_loss: 0.0063 - val_categorical_accuracy: 0.9987\n",
      "Epoch 13/50\n",
      "549/549 [==============================] - 54s 98ms/step - loss: 0.0970 - categorical_accuracy: 0.9804\n",
      "1634/1634 [==============================] - 549s 336ms/step - loss: 0.0544 - categorical_accuracy: 0.9855 - val_loss: 0.0970 - val_categorical_accuracy: 0.9804\n",
      "Epoch 14/50\n",
      "549/549 [==============================] - 62s 113ms/step - loss: 0.0603 - categorical_accuracy: 0.9832\n",
      "1634/1634 [==============================] - 667s 408ms/step - loss: 0.0344 - categorical_accuracy: 0.9899 - val_loss: 0.0603 - val_categorical_accuracy: 0.9832\n",
      "Epoch 15/50\n",
      "549/549 [==============================] - 57s 104ms/step - loss: 0.0835 - categorical_accuracy: 0.9798\n",
      "1634/1634 [==============================] - 766s 469ms/step - loss: 0.0387 - categorical_accuracy: 0.9896 - val_loss: 0.0835 - val_categorical_accuracy: 0.9798\n",
      "Epoch 16/50\n",
      "549/549 [==============================] - 57s 104ms/step - loss: 0.1754 - categorical_accuracy: 0.9685\n",
      "1634/1634 [==============================] - 577s 353ms/step - loss: 0.0400 - categorical_accuracy: 0.9893 - val_loss: 0.1754 - val_categorical_accuracy: 0.9685\n",
      "Epoch 17/50\n",
      "549/549 [==============================] - 57s 104ms/step - loss: 0.0479 - categorical_accuracy: 0.9896\n",
      "1634/1634 [==============================] - 578s 354ms/step - loss: 0.0335 - categorical_accuracy: 0.9907 - val_loss: 0.0479 - val_categorical_accuracy: 0.9896\n",
      "Epoch 18/50\n",
      "549/549 [==============================] - 57s 104ms/step - loss: 0.2215 - categorical_accuracy: 0.9632\n",
      "1634/1634 [==============================] - 577s 353ms/step - loss: 0.0311 - categorical_accuracy: 0.9922 - val_loss: 0.2215 - val_categorical_accuracy: 0.9632\n",
      "Epoch 19/50\n",
      "549/549 [==============================] - 57s 104ms/step - loss: 0.0925 - categorical_accuracy: 0.9743\n",
      "1634/1634 [==============================] - 577s 353ms/step - loss: 0.0332 - categorical_accuracy: 0.9906 - val_loss: 0.0925 - val_categorical_accuracy: 0.9743\n",
      "Epoch 20/50\n",
      "549/549 [==============================] - 57s 104ms/step - loss: 0.0390 - categorical_accuracy: 0.9899\n",
      "1634/1634 [==============================] - 578s 354ms/step - loss: 0.0396 - categorical_accuracy: 0.9910 - val_loss: 0.0390 - val_categorical_accuracy: 0.9899\n",
      "Epoch 21/50\n",
      "549/549 [==============================] - 57s 104ms/step - loss: 0.0042 - categorical_accuracy: 0.9989\n",
      "1634/1634 [==============================] - 579s 354ms/step - loss: 0.0316 - categorical_accuracy: 0.9916 - val_loss: 0.0042 - val_categorical_accuracy: 0.9989\n",
      "Epoch 22/50\n",
      "549/549 [==============================] - 63s 114ms/step - loss: 0.0111 - categorical_accuracy: 0.9960\n",
      "1634/1634 [==============================] - 598s 366ms/step - loss: 0.0250 - categorical_accuracy: 0.9927 - val_loss: 0.0111 - val_categorical_accuracy: 0.9960\n",
      "Epoch 23/50\n",
      "549/549 [==============================] - 70s 128ms/step - loss: 0.0130 - categorical_accuracy: 0.9949\n",
      "1634/1634 [==============================] - 679s 416ms/step - loss: 0.0298 - categorical_accuracy: 0.9916 - val_loss: 0.0130 - val_categorical_accuracy: 0.9949\n",
      "Epoch 24/50\n",
      "549/549 [==============================] - 57s 105ms/step - loss: 0.1721 - categorical_accuracy: 0.9644\n",
      "1634/1634 [==============================] - 587s 359ms/step - loss: 0.0294 - categorical_accuracy: 0.9928 - val_loss: 0.1721 - val_categorical_accuracy: 0.9644\n",
      "Epoch 25/50\n",
      "549/549 [==============================] - 58s 105ms/step - loss: 0.0120 - categorical_accuracy: 0.9956\n",
      "1634/1634 [==============================] - 579s 354ms/step - loss: 0.0299 - categorical_accuracy: 0.9925 - val_loss: 0.0120 - val_categorical_accuracy: 0.9956\n",
      "Epoch 26/50\n",
      "549/549 [==============================] - 57s 105ms/step - loss: 0.0344 - categorical_accuracy: 0.9954\n",
      "1634/1634 [==============================] - 579s 354ms/step - loss: 0.0250 - categorical_accuracy: 0.9937 - val_loss: 0.0344 - val_categorical_accuracy: 0.9954\n",
      "Epoch 27/50\n",
      "549/549 [==============================] - 57s 104ms/step - loss: 0.0510 - categorical_accuracy: 0.9866\n",
      "1634/1634 [==============================] - 578s 354ms/step - loss: 0.0261 - categorical_accuracy: 0.9932 - val_loss: 0.0510 - val_categorical_accuracy: 0.9866\n",
      "Epoch 28/50\n",
      "549/549 [==============================] - 58s 105ms/step - loss: 0.1158 - categorical_accuracy: 0.9815\n",
      "1634/1634 [==============================] - 579s 355ms/step - loss: 0.0199 - categorical_accuracy: 0.9948 - val_loss: 0.1158 - val_categorical_accuracy: 0.9815\n",
      "Epoch 29/50\n"
     ]
    },
    {
     "name": "stdout",
     "output_type": "stream",
     "text": [
      "549/549 [==============================] - 62s 114ms/step - loss: 0.0272 - categorical_accuracy: 0.9916\n",
      "1634/1634 [==============================] - 585s 358ms/step - loss: 0.0344 - categorical_accuracy: 0.9908 - val_loss: 0.0272 - val_categorical_accuracy: 0.9916\n",
      "Epoch 30/50\n",
      "549/549 [==============================] - 57s 105ms/step - loss: 0.0140 - categorical_accuracy: 0.9946\n",
      "1634/1634 [==============================] - 581s 356ms/step - loss: 0.0196 - categorical_accuracy: 0.9946 - val_loss: 0.0140 - val_categorical_accuracy: 0.9946\n",
      "Epoch 31/50\n",
      "549/549 [==============================] - 57s 104ms/step - loss: 0.0268 - categorical_accuracy: 0.9913\n",
      "1634/1634 [==============================] - 580s 355ms/step - loss: 0.0322 - categorical_accuracy: 0.9930 - val_loss: 0.0268 - val_categorical_accuracy: 0.9913\n",
      "Epoch 32/50\n",
      "549/549 [==============================] - 57s 104ms/step - loss: 0.0454 - categorical_accuracy: 0.9942\n",
      "1634/1634 [==============================] - 579s 355ms/step - loss: 0.0245 - categorical_accuracy: 0.9937 - val_loss: 0.0454 - val_categorical_accuracy: 0.9942\n",
      "Epoch 33/50\n",
      "549/549 [==============================] - 57s 104ms/step - loss: 0.0291 - categorical_accuracy: 0.9956\n",
      "1634/1634 [==============================] - 579s 354ms/step - loss: 0.0182 - categorical_accuracy: 0.9954 - val_loss: 0.0291 - val_categorical_accuracy: 0.9956\n",
      "Epoch 34/50\n",
      "549/549 [==============================] - 57s 104ms/step - loss: 0.0464 - categorical_accuracy: 0.9860\n",
      "1634/1634 [==============================] - 579s 354ms/step - loss: 0.0333 - categorical_accuracy: 0.9923 - val_loss: 0.0464 - val_categorical_accuracy: 0.9860\n",
      "Epoch 35/50\n",
      "549/549 [==============================] - 57s 104ms/step - loss: 0.0515 - categorical_accuracy: 0.9895\n",
      "1634/1634 [==============================] - 580s 355ms/step - loss: 0.0199 - categorical_accuracy: 0.9954 - val_loss: 0.0515 - val_categorical_accuracy: 0.9895\n",
      "Epoch 36/50\n",
      "549/549 [==============================] - 57s 104ms/step - loss: 0.0114 - categorical_accuracy: 0.9970\n",
      "1634/1634 [==============================] - 579s 354ms/step - loss: 0.0174 - categorical_accuracy: 0.9956 - val_loss: 0.0114 - val_categorical_accuracy: 0.9970\n",
      "Epoch 37/50\n",
      "549/549 [==============================] - 57s 104ms/step - loss: 0.0046 - categorical_accuracy: 0.9991\n",
      "1634/1634 [==============================] - 580s 355ms/step - loss: 0.1003 - categorical_accuracy: 0.9887 - val_loss: 0.0046 - val_categorical_accuracy: 0.9991\n",
      "Epoch 38/50\n",
      "549/549 [==============================] - 57s 104ms/step - loss: 0.0141 - categorical_accuracy: 0.9969\n",
      "1634/1634 [==============================] - 580s 355ms/step - loss: 0.0179 - categorical_accuracy: 0.9955 - val_loss: 0.0141 - val_categorical_accuracy: 0.9969\n",
      "Epoch 39/50\n",
      "549/549 [==============================] - 64s 116ms/step - loss: 0.0180 - categorical_accuracy: 0.9950\n",
      "1634/1634 [==============================] - 658s 403ms/step - loss: 0.0346 - categorical_accuracy: 0.9924 - val_loss: 0.0180 - val_categorical_accuracy: 0.9950\n",
      "Epoch 40/50\n",
      "549/549 [==============================] - 58s 105ms/step - loss: 0.0206 - categorical_accuracy: 0.9944\n",
      "1634/1634 [==============================] - 617s 377ms/step - loss: 0.0147 - categorical_accuracy: 0.9966 - val_loss: 0.0206 - val_categorical_accuracy: 0.9944\n",
      "Epoch 41/50\n",
      "549/549 [==============================] - 58s 105ms/step - loss: 0.0443 - categorical_accuracy: 0.9911\n",
      "1634/1634 [==============================] - 579s 354ms/step - loss: 0.0334 - categorical_accuracy: 0.9917 - val_loss: 0.0443 - val_categorical_accuracy: 0.9911\n",
      "Epoch 42/50\n",
      "549/549 [==============================] - 57s 104ms/step - loss: 0.0067 - categorical_accuracy: 0.9985\n",
      "1634/1634 [==============================] - 578s 354ms/step - loss: 0.0175 - categorical_accuracy: 0.9955 - val_loss: 0.0067 - val_categorical_accuracy: 0.9985\n",
      "Epoch 43/50\n",
      "549/549 [==============================] - 57s 104ms/step - loss: 0.1143 - categorical_accuracy: 0.9776\n",
      "1634/1634 [==============================] - 579s 355ms/step - loss: 0.0219 - categorical_accuracy: 0.9946 - val_loss: 0.1143 - val_categorical_accuracy: 0.9776\n",
      "Epoch 44/50\n",
      "549/549 [==============================] - 57s 105ms/step - loss: 0.0338 - categorical_accuracy: 0.9949\n",
      "1634/1634 [==============================] - 578s 354ms/step - loss: 0.0212 - categorical_accuracy: 0.9947 - val_loss: 0.0338 - val_categorical_accuracy: 0.9949\n",
      "Epoch 45/50\n",
      "549/549 [==============================] - 57s 104ms/step - loss: 0.0852 - categorical_accuracy: 0.9818\n",
      "1634/1634 [==============================] - 579s 354ms/step - loss: 0.0241 - categorical_accuracy: 0.9939 - val_loss: 0.0852 - val_categorical_accuracy: 0.9818\n",
      "Epoch 46/50\n",
      "549/549 [==============================] - 57s 104ms/step - loss: 0.0535 - categorical_accuracy: 0.9919\n",
      "1634/1634 [==============================] - 579s 355ms/step - loss: 0.0240 - categorical_accuracy: 0.9945 - val_loss: 0.0535 - val_categorical_accuracy: 0.9919\n",
      "Epoch 47/50\n",
      "549/549 [==============================] - 57s 104ms/step - loss: 0.1053 - categorical_accuracy: 0.9823\n",
      "1634/1634 [==============================] - 578s 354ms/step - loss: 0.0112 - categorical_accuracy: 0.9971 - val_loss: 0.1053 - val_categorical_accuracy: 0.9823\n",
      "Epoch 48/50\n",
      "549/549 [==============================] - 57s 104ms/step - loss: 0.0106 - categorical_accuracy: 0.9971\n",
      "1634/1634 [==============================] - 577s 353ms/step - loss: 0.0253 - categorical_accuracy: 0.9941 - val_loss: 0.0106 - val_categorical_accuracy: 0.9971\n",
      "Epoch 49/50\n",
      "549/549 [==============================] - 57s 104ms/step - loss: 0.0532 - categorical_accuracy: 0.9905\n",
      "1634/1634 [==============================] - 579s 354ms/step - loss: 0.0245 - categorical_accuracy: 0.9951 - val_loss: 0.0532 - val_categorical_accuracy: 0.9905\n",
      "Epoch 50/50\n",
      "549/549 [==============================] - 57s 104ms/step - loss: 0.0716 - categorical_accuracy: 0.9861\n",
      "1634/1634 [==============================] - 577s 353ms/step - loss: 0.0228 - categorical_accuracy: 0.9945 - val_loss: 0.0716 - val_categorical_accuracy: 0.9861\n"
     ]
    }
   ],
   "source": [
    "import math\n",
    "\n",
    "history = model.fit_generator(\n",
    "      train_generator,\n",
    "      steps_per_epoch=math.ceil(52262//32),\n",
    "      epochs=50,\n",
    "      validation_data=validation_generator,\n",
    "      validation_steps=math.ceil(17540//32))"
   ]
  },
  {
   "cell_type": "code",
   "execution_count": 11,
   "metadata": {},
   "outputs": [],
   "source": [
    "import matplotlib.pyplot as plt"
   ]
  },
  {
   "cell_type": "code",
   "execution_count": 12,
   "metadata": {},
   "outputs": [
    {
     "data": {
      "image/png": "[encoded data removed]",
      "text/plain": [
       "<Figure size 432x288 with 1 Axes>"
      ]
     },
     "metadata": {
      "needs_background": "light"
     },
     "output_type": "display_data"
    },
    {
     "data": {
      "image/png": "[encoded data removed]",
      "text/plain": [
       "<Figure size 432x288 with 1 Axes>"
      ]
     },
     "metadata": {
      "needs_background": "light"
     },
     "output_type": "display_data"
    }
   ],
   "source": [
    "acc=history.history['categorical_accuracy']\n",
    "val_acc=history.history['val_categorical_accuracy']\n",
    "loss=history.history['loss']\n",
    "val_loss=history.history['val_loss']\n",
    "epochs=range(1,len(acc)+1)\n",
    "plt.xlabel('Epochs')\n",
    "plt.ylabel('Accuracy')\n",
    "plt.plot(epochs, acc, 'bo', label='Training acc')\n",
    "plt.plot(epochs, val_acc, 'b', label='Validation acc')\n",
    "plt.title('Training and validation accuracy')\n",
    "plt.legend()\n",
    "plt.savefig('fruit_image_classification_101_classes_transfer learning_vgg19_data augmentation_a',format='png')\n",
    "plt.figure()\n",
    "\n",
    "plt.plot(epochs, loss, 'bo', label='Training loss')\n",
    "plt.plot(epochs, val_loss, 'b', label='Validation loss')\n",
    "plt.title('Training and validation loss')\n",
    "plt.xlabel('Epochs')\n",
    "plt.ylabel('Loss')\n",
    "plt.legend()\n",
    "plt.savefig('fruit_image_classification_101_classes_transfer learning_vgg19_data augmentation_b',format='png')\n",
    "plt.show()"
   ]
  },
  {
   "cell_type": "markdown",
   "metadata": {},
   "source": [
    "## Model Evaluation"
   ]
  },
  {
   "cell_type": "code",
   "execution_count": 13,
   "metadata": {},
   "outputs": [
    {
     "name": "stdout",
     "output_type": "stream",
     "text": [
      "548\n"
     ]
    }
   ],
   "source": [
    "steps_test=int(17540/32)\n",
    "print(steps_test)"
   ]
  },
  {
   "cell_type": "code",
   "execution_count": 14,
   "metadata": {},
   "outputs": [
    {
     "name": "stdout",
     "output_type": "stream",
     "text": [
      "Test-set classification accuracy: 98.61%\n"
     ]
    }
   ],
   "source": [
    "result = model.evaluate_generator(validation_generator, steps=steps_test)\n",
    "print(\"Test-set classification accuracy: {0:.2%}\".format(result[1]))"
   ]
  }
 ],
 "metadata": {
  "kernelspec": {
   "display_name": "Python 3",
   "language": "python",
   "name": "python3"
  },
  "language_info": {
   "codemirror_mode": {
    "name": "ipython",
    "version": 3
   },
   "file_extension": ".py",
   "mimetype": "text/x-python",
   "name": "python",
   "nbconvert_exporter": "python",
   "pygments_lexer": "ipython3",
   "version": "3.6.8"
  }
 },
 "nbformat": 4,
 "nbformat_minor": 2
}
