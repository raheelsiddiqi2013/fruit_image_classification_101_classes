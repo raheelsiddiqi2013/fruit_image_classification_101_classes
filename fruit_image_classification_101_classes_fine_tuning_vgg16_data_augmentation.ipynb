{
 "cells": [
  {
   "cell_type": "markdown",
   "metadata": {},
   "source": [
    "# Fruit Image Classification using VGG16 and Fine Tuning\n",
    "This notebook is written and executed by **Dr Raheel Siddiqi** on 26-05-2019. The notebook presents an experiment to classify fruit images using *fine tuning*. *Fruits 360 dataset* (containing 52262 training images and 17540 test images belonging to 101 fruit classes) has been exploited for the task. \n",
    "The model designed uses **VGG16** pre-trained model as the convolutional base. The steps for fine-tuning a network are as follows:\n",
    "1. Add the custom network on top of an already-trained base network.\n",
    "2. Freeze the base network.\n",
    "3. Train the part that has been added.\n",
    "4. Unfreeze some layers in the base network.\n",
    "5. Jointly train both these layers and the part that has been added.\n",
    "\n",
    "First I execute the first three steps which are the same as *transfer learning*.\n",
    "\n",
    "## Tensorflow and Keras version used"
   ]
  },
  {
   "cell_type": "code",
   "execution_count": 3,
   "metadata": {},
   "outputs": [
    {
     "name": "stdout",
     "output_type": "stream",
     "text": [
      "Tensorflow Version:  1.13.1\n",
      "Keras Version:  2.2.4-tf\n"
     ]
    }
   ],
   "source": [
    "import tensorflow as tf\n",
    "from tensorflow.python import keras\n",
    "\n",
    "print('Tensorflow Version: ', tf.__version__)\n",
    "print('Keras Version: ', keras.__version__)"
   ]
  },
  {
   "cell_type": "markdown",
   "metadata": {},
   "source": [
    "## Adding Classifier on top of the pre-trained VGG16 Convolutional Base and freezing the Convolutional Base"
   ]
  },
  {
   "cell_type": "code",
   "execution_count": 4,
   "metadata": {},
   "outputs": [],
   "source": [
    "from tensorflow.python.keras.applications import VGG16\n",
    "\n",
    "conv_base=VGG16(weights='imagenet',include_top=False,input_shape=(100,100,3))"
   ]
  },
  {
   "cell_type": "code",
   "execution_count": 5,
   "metadata": {},
   "outputs": [
    {
     "name": "stdout",
     "output_type": "stream",
     "text": [
      "_________________________________________________________________\n",
      "Layer (type)                 Output Shape              Param #   \n",
      "=================================================================\n",
      "input_2 (InputLayer)         (None, 100, 100, 3)       0         \n",
      "_________________________________________________________________\n",
      "block1_conv1 (Conv2D)        (None, 100, 100, 64)      1792      \n",
      "_________________________________________________________________\n",
      "block1_conv2 (Conv2D)        (None, 100, 100, 64)      36928     \n",
      "_________________________________________________________________\n",
      "block1_pool (MaxPooling2D)   (None, 50, 50, 64)        0         \n",
      "_________________________________________________________________\n",
      "block2_conv1 (Conv2D)        (None, 50, 50, 128)       73856     \n",
      "_________________________________________________________________\n",
      "block2_conv2 (Conv2D)        (None, 50, 50, 128)       147584    \n",
      "_________________________________________________________________\n",
      "block2_pool (MaxPooling2D)   (None, 25, 25, 128)       0         \n",
      "_________________________________________________________________\n",
      "block3_conv1 (Conv2D)        (None, 25, 25, 256)       295168    \n",
      "_________________________________________________________________\n",
      "block3_conv2 (Conv2D)        (None, 25, 25, 256)       590080    \n",
      "_________________________________________________________________\n",
      "block3_conv3 (Conv2D)        (None, 25, 25, 256)       590080    \n",
      "_________________________________________________________________\n",
      "block3_pool (MaxPooling2D)   (None, 12, 12, 256)       0         \n",
      "_________________________________________________________________\n",
      "block4_conv1 (Conv2D)        (None, 12, 12, 512)       1180160   \n",
      "_________________________________________________________________\n",
      "block4_conv2 (Conv2D)        (None, 12, 12, 512)       2359808   \n",
      "_________________________________________________________________\n",
      "block4_conv3 (Conv2D)        (None, 12, 12, 512)       2359808   \n",
      "_________________________________________________________________\n",
      "block4_pool (MaxPooling2D)   (None, 6, 6, 512)         0         \n",
      "_________________________________________________________________\n",
      "block5_conv1 (Conv2D)        (None, 6, 6, 512)         2359808   \n",
      "_________________________________________________________________\n",
      "block5_conv2 (Conv2D)        (None, 6, 6, 512)         2359808   \n",
      "_________________________________________________________________\n",
      "block5_conv3 (Conv2D)        (None, 6, 6, 512)         2359808   \n",
      "_________________________________________________________________\n",
      "block5_pool (MaxPooling2D)   (None, 3, 3, 512)         0         \n",
      "=================================================================\n",
      "Total params: 14,714,688\n",
      "Trainable params: 14,714,688\n",
      "Non-trainable params: 0\n",
      "_________________________________________________________________\n"
     ]
    }
   ],
   "source": [
    "conv_base.summary()"
   ]
  },
  {
   "cell_type": "code",
   "execution_count": 6,
   "metadata": {},
   "outputs": [],
   "source": [
    "import os\n",
    "import numpy as np\n",
    "from tensorflow.python.keras.preprocessing.image import ImageDataGenerator\n",
    "from tensorflow.python.keras import models\n",
    "from tensorflow.python.keras import layers\n",
    "from tensorflow.python.keras.callbacks import ModelCheckpoint\n",
    "\n",
    "model = models.Sequential()\n",
    "model.add(conv_base)\n",
    "model.add(layers.Flatten())\n",
    "model.add(layers.Dense(512, activation='relu'))\n",
    "model.add(layers.Dense(101, activation='softmax'))\n",
    "filepath=\"VGG16_fruit_image_classification_best_model_101_classes.h5\"\n",
    "checkpoint = ModelCheckpoint(filepath, save_best_only=True)\n",
    "callbacks_list = [checkpoint]"
   ]
  },
  {
   "cell_type": "code",
   "execution_count": 7,
   "metadata": {},
   "outputs": [
    {
     "name": "stdout",
     "output_type": "stream",
     "text": [
      "_________________________________________________________________\n",
      "Layer (type)                 Output Shape              Param #   \n",
      "=================================================================\n",
      "vgg16 (Model)                (None, 3, 3, 512)         14714688  \n",
      "_________________________________________________________________\n",
      "flatten (Flatten)            (None, 4608)              0         \n",
      "_________________________________________________________________\n",
      "dense (Dense)                (None, 512)               2359808   \n",
      "_________________________________________________________________\n",
      "dense_1 (Dense)              (None, 101)               51813     \n",
      "=================================================================\n",
      "Total params: 17,126,309\n",
      "Trainable params: 17,126,309\n",
      "Non-trainable params: 0\n",
      "_________________________________________________________________\n"
     ]
    }
   ],
   "source": [
    "model.summary()"
   ]
  },
  {
   "cell_type": "markdown",
   "metadata": {},
   "source": [
    "## Setting up Training and Validation Data for the experiment"
   ]
  },
  {
   "cell_type": "code",
   "execution_count": 8,
   "metadata": {},
   "outputs": [],
   "source": [
    "train_dir='D:\\\\TensorFlow Programs\\\\fruit_image_classification_101_classes\\\\fruits\\\\fruits-360\\\\Training'"
   ]
  },
  {
   "cell_type": "code",
   "execution_count": 9,
   "metadata": {},
   "outputs": [],
   "source": [
    "validation_dir='D:\\\\TensorFlow Programs\\\\fruit_image_classification_101_classes\\\\fruits\\\\fruits-360\\\\Test'"
   ]
  },
  {
   "cell_type": "code",
   "execution_count": 11,
   "metadata": {},
   "outputs": [],
   "source": [
    "batch_size=32\n",
    "number_of_training_samples=52262\n",
    "number_of_test_samples=17540"
   ]
  },
  {
   "cell_type": "code",
   "execution_count": 12,
   "metadata": {},
   "outputs": [
    {
     "name": "stdout",
     "output_type": "stream",
     "text": [
      "Found 52262 images belonging to 101 classes.\n",
      "Found 17540 images belonging to 101 classes.\n"
     ]
    }
   ],
   "source": [
    "train_datagen = ImageDataGenerator(\n",
    "    rescale=1./255,\n",
    "    rotation_range=40,\n",
    "    width_shift_range=0.2,\n",
    "    height_shift_range=0.2,\n",
    "    shear_range=0.2,\n",
    "    zoom_range=0.2,\n",
    "    horizontal_flip=True,)\n",
    "\n",
    "# Note that the validation data should not be augmented!\n",
    "test_datagen = ImageDataGenerator(rescale=1./255)\n",
    "\n",
    "train_generator = train_datagen.flow_from_directory(\n",
    "        # This is the target directory\n",
    "        train_dir,\n",
    "        target_size=(100, 100),\n",
    "        batch_size=batch_size)\n",
    "\n",
    "validation_generator = test_datagen.flow_from_directory(\n",
    "        validation_dir,\n",
    "        target_size=(100, 100),\n",
    "        batch_size=batch_size, shuffle=False)"
   ]
  },
  {
   "cell_type": "markdown",
   "metadata": {},
   "source": [
    "## Model Training"
   ]
  },
  {
   "cell_type": "code",
   "execution_count": 13,
   "metadata": {},
   "outputs": [],
   "source": [
    "from tensorflow.python.keras import optimizers\n",
    "\n",
    "model.compile(loss='categorical_crossentropy',optimizer=optimizers.Adam(lr=1e-4),metrics=['categorical_accuracy'])"
   ]
  },
  {
   "cell_type": "code",
   "execution_count": 14,
   "metadata": {},
   "outputs": [
    {
     "name": "stdout",
     "output_type": "stream",
     "text": [
      "WARNING:tensorflow:From C:\\Users\\Raheel\\Anaconda3\\envs\\EnvName\\lib\\site-packages\\tensorflow\\python\\ops\\math_ops.py:3066: to_int32 (from tensorflow.python.ops.math_ops) is deprecated and will be removed in a future version.\n",
      "Instructions for updating:\n",
      "Use tf.cast instead.\n",
      "Epoch 1/30\n",
      "549/549 [==============================] - 60s 109ms/step - loss: 0.1349 - categorical_accuracy: 0.9499s - loss: 0.1382 - ca\n",
      "1634/1634 [==============================] - 955s 584ms/step - loss: 0.6242 - categorical_accuracy: 0.8300 - val_loss: 0.1349 - val_categorical_accuracy: 0.9499\n",
      "Epoch 2/30\n",
      "549/549 [==============================] - 51s 93ms/step - loss: 0.0768 - categorical_accuracy: 0.9742\n",
      "1634/1634 [==============================] - 556s 340ms/step - loss: 0.0991 - categorical_accuracy: 0.9699 - val_loss: 0.0768 - val_categorical_accuracy: 0.9742\n",
      "Epoch 3/30\n",
      "549/549 [==============================] - 48s 88ms/step - loss: 0.0500 - categorical_accuracy: 0.9842\n",
      "1634/1634 [==============================] - 568s 348ms/step - loss: 0.0842 - categorical_accuracy: 0.9760 - val_loss: 0.0500 - val_categorical_accuracy: 0.9842\n",
      "Epoch 4/30\n",
      "549/549 [==============================] - 58s 106ms/step - loss: 0.0449 - categorical_accuracy: 0.9855\n",
      "1634/1634 [==============================] - 588s 360ms/step - loss: 0.0586 - categorical_accuracy: 0.9832 - val_loss: 0.0449 - val_categorical_accuracy: 0.9855\n",
      "Epoch 5/30\n",
      "549/549 [==============================] - 55s 99ms/step - loss: 0.0363 - categorical_accuracy: 0.9909\n",
      "1634/1634 [==============================] - 542s 331ms/step - loss: 0.0615 - categorical_accuracy: 0.9831 - val_loss: 0.0363 - val_categorical_accuracy: 0.9909\n",
      "Epoch 6/30\n",
      "549/549 [==============================] - 48s 87ms/step - loss: 0.0221 - categorical_accuracy: 0.9920\n",
      "1634/1634 [==============================] - 564s 345ms/step - loss: 0.0457 - categorical_accuracy: 0.9872 - val_loss: 0.0221 - val_categorical_accuracy: 0.9920\n",
      "Epoch 7/30\n",
      "549/549 [==============================] - 47s 86ms/step - loss: 0.0208 - categorical_accuracy: 0.9932\n",
      "1634/1634 [==============================] - 556s 340ms/step - loss: 0.0447 - categorical_accuracy: 0.9875 - val_loss: 0.0208 - val_categorical_accuracy: 0.9932\n",
      "Epoch 8/30\n",
      "549/549 [==============================] - 48s 87ms/step - loss: 0.0281 - categorical_accuracy: 0.9907\n",
      "1634/1634 [==============================] - 506s 309ms/step - loss: 0.0403 - categorical_accuracy: 0.9893 - val_loss: 0.0281 - val_categorical_accuracy: 0.9907\n",
      "Epoch 9/30\n",
      "549/549 [==============================] - 47s 85ms/step - loss: 0.0132 - categorical_accuracy: 0.9968\n",
      "1634/1634 [==============================] - 510s 312ms/step - loss: 0.0422 - categorical_accuracy: 0.9883 - val_loss: 0.0132 - val_categorical_accuracy: 0.9968\n",
      "Epoch 10/30\n",
      "549/549 [==============================] - 47s 85ms/step - loss: 0.0080 - categorical_accuracy: 0.9970\n",
      "1634/1634 [==============================] - 468s 286ms/step - loss: 0.0271 - categorical_accuracy: 0.9927 - val_loss: 0.0080 - val_categorical_accuracy: 0.9970\n",
      "Epoch 11/30\n",
      "549/549 [==============================] - 46s 84ms/step - loss: 0.0315 - categorical_accuracy: 0.9906\n",
      "1634/1634 [==============================] - 482s 295ms/step - loss: 0.0335 - categorical_accuracy: 0.9910 - val_loss: 0.0315 - val_categorical_accuracy: 0.9906\n",
      "Epoch 12/30\n",
      "549/549 [==============================] - 46s 84ms/step - loss: 0.0185 - categorical_accuracy: 0.9946\n",
      "1634/1634 [==============================] - 475s 290ms/step - loss: 0.0255 - categorical_accuracy: 0.9933 - val_loss: 0.0185 - val_categorical_accuracy: 0.9946\n",
      "Epoch 13/30\n",
      "549/549 [==============================] - 46s 85ms/step - loss: 0.0282 - categorical_accuracy: 0.9938\n",
      "1634/1634 [==============================] - 453s 277ms/step - loss: 0.0318 - categorical_accuracy: 0.9912 - val_loss: 0.0282 - val_categorical_accuracy: 0.9938\n",
      "Epoch 14/30\n",
      "549/549 [==============================] - 46s 84ms/step - loss: 0.0115 - categorical_accuracy: 0.9968\n",
      "1634/1634 [==============================] - 453s 277ms/step - loss: 0.0278 - categorical_accuracy: 0.9931 - val_loss: 0.0115 - val_categorical_accuracy: 0.9968\n",
      "Epoch 15/30\n",
      "549/549 [==============================] - 46s 84ms/step - loss: 0.0270 - categorical_accuracy: 0.9950\n",
      "1634/1634 [==============================] - 452s 277ms/step - loss: 0.0362 - categorical_accuracy: 0.9919 - val_loss: 0.0270 - val_categorical_accuracy: 0.9950\n",
      "Epoch 16/30\n",
      "549/549 [==============================] - 55s 101ms/step - loss: 0.0671 - categorical_accuracy: 0.9934\n",
      "1634/1634 [==============================] - 488s 298ms/step - loss: 0.0207 - categorical_accuracy: 0.9949 - val_loss: 0.0671 - val_categorical_accuracy: 0.9934\n",
      "Epoch 17/30\n",
      "549/549 [==============================] - 63s 115ms/step - loss: 0.0371 - categorical_accuracy: 0.9927\n",
      "1634/1634 [==============================] - 652s 399ms/step - loss: 0.0269 - categorical_accuracy: 0.9933 - val_loss: 0.0371 - val_categorical_accuracy: 0.9927\n",
      "Epoch 18/30\n",
      "549/549 [==============================] - 49s 89ms/step - loss: 0.0058 - categorical_accuracy: 0.9983\n",
      "1634/1634 [==============================] - 479s 293ms/step - loss: 0.0185 - categorical_accuracy: 0.9955 - val_loss: 0.0058 - val_categorical_accuracy: 0.9983\n",
      "Epoch 19/30\n",
      "549/549 [==============================] - 49s 89ms/step - loss: 0.0142 - categorical_accuracy: 0.9962\n",
      "1634/1634 [==============================] - 478s 293ms/step - loss: 0.0277 - categorical_accuracy: 0.9939 - val_loss: 0.0142 - val_categorical_accuracy: 0.9962\n",
      "Epoch 20/30\n",
      "549/549 [==============================] - 49s 89ms/step - loss: 0.0096 - categorical_accuracy: 0.9984\n",
      "1634/1634 [==============================] - 478s 293ms/step - loss: 0.0237 - categorical_accuracy: 0.9941 - val_loss: 0.0096 - val_categorical_accuracy: 0.9984\n",
      "Epoch 21/30\n",
      "549/549 [==============================] - 55s 99ms/step - loss: 0.0096 - categorical_accuracy: 0.9981\n",
      "1634/1634 [==============================] - 513s 314ms/step - loss: 0.0225 - categorical_accuracy: 0.9949 - val_loss: 0.0096 - val_categorical_accuracy: 0.9981\n",
      "Epoch 22/30\n",
      "549/549 [==============================] - 49s 89ms/step - loss: 0.0156 - categorical_accuracy: 0.9956\n",
      "1634/1634 [==============================] - 507s 310ms/step - loss: 0.0297 - categorical_accuracy: 0.9932 - val_loss: 0.0156 - val_categorical_accuracy: 0.9956\n",
      "Epoch 23/30\n",
      "549/549 [==============================] - 49s 89ms/step - loss: 0.0281 - categorical_accuracy: 0.9933\n",
      "1634/1634 [==============================] - 479s 293ms/step - loss: 0.0228 - categorical_accuracy: 0.9947 - val_loss: 0.0281 - val_categorical_accuracy: 0.9933\n",
      "Epoch 24/30\n",
      "549/549 [==============================] - 49s 89ms/step - loss: 0.0284 - categorical_accuracy: 0.9956\n",
      "1634/1634 [==============================] - 479s 293ms/step - loss: 0.0166 - categorical_accuracy: 0.9958 - val_loss: 0.0284 - val_categorical_accuracy: 0.9956\n",
      "Epoch 25/30\n",
      "549/549 [==============================] - 49s 89ms/step - loss: 0.1013 - categorical_accuracy: 0.9806\n",
      "1634/1634 [==============================] - 478s 292ms/step - loss: 0.0279 - categorical_accuracy: 0.9941 - val_loss: 0.1013 - val_categorical_accuracy: 0.9806\n",
      "Epoch 26/30\n",
      "549/549 [==============================] - 49s 89ms/step - loss: 0.0537 - categorical_accuracy: 0.9881\n",
      "1634/1634 [==============================] - 478s 293ms/step - loss: 0.0269 - categorical_accuracy: 0.9931 - val_loss: 0.0537 - val_categorical_accuracy: 0.9881\n",
      "Epoch 27/30\n",
      "549/549 [==============================] - ETA: 0s - loss: 0.0136 - categorical_accuracy: 0.99 - 49s 89ms/step - loss: 0.0136 - categorical_accuracy: 0.9961\n",
      "1634/1634 [==============================] - 478s 293ms/step - loss: 0.0163 - categorical_accuracy: 0.9962 - val_loss: 0.0136 - val_categorical_accuracy: 0.9961\n",
      "Epoch 28/30\n",
      "549/549 [==============================] - 49s 89ms/step - loss: 0.0084 - categorical_accuracy: 0.9979\n",
      "1634/1634 [==============================] - 478s 293ms/step - loss: 0.0278 - categorical_accuracy: 0.9946 - val_loss: 0.0084 - val_categorical_accuracy: 0.9979\n",
      "Epoch 29/30\n",
      "549/549 [==============================] - 49s 89ms/step - loss: 0.0185 - categorical_accuracy: 0.9949\n",
      "1634/1634 [==============================] - 478s 292ms/step - loss: 0.0228 - categorical_accuracy: 0.9955 - val_loss: 0.0185 - val_categorical_accuracy: 0.9949\n"
     ]
    },
    {
     "name": "stdout",
     "output_type": "stream",
     "text": [
      "Epoch 30/30\n",
      "549/549 [==============================] - 49s 89ms/step - loss: 0.0344 - categorical_accuracy: 0.9912\n",
      "1634/1634 [==============================] - 481s 294ms/step - loss: 0.0185 - categorical_accuracy: 0.9953 - val_loss: 0.0344 - val_categorical_accuracy: 0.9912\n"
     ]
    }
   ],
   "source": [
    "import math\n",
    "\n",
    "history = model.fit_generator(\n",
    "      train_generator,\n",
    "      steps_per_epoch=math.ceil(number_of_training_samples//batch_size),\n",
    "      epochs=30,\n",
    "      callbacks=callbacks_list,\n",
    "      validation_data=validation_generator,\n",
    "      validation_steps=math.ceil(number_of_test_samples//batch_size))"
   ]
  },
  {
   "cell_type": "code",
   "execution_count": 15,
   "metadata": {},
   "outputs": [
    {
     "data": {
      "image/png": "[encoded data removed]",
      "text/plain": [
       "<Figure size 432x288 with 1 Axes>"
      ]
     },
     "metadata": {
      "needs_background": "light"
     },
     "output_type": "display_data"
    },
    {
     "data": {
      "image/png": "[encoded data removed]",
      "text/plain": [
       "<Figure size 432x288 with 1 Axes>"
      ]
     },
     "metadata": {
      "needs_background": "light"
     },
     "output_type": "display_data"
    }
   ],
   "source": [
    "import matplotlib.pyplot as plt\n",
    "%matplotlib inline\n",
    "\n",
    "acc=history.history['categorical_accuracy']\n",
    "val_acc=history.history['val_categorical_accuracy']\n",
    "loss=history.history['loss']\n",
    "val_loss=history.history['val_loss']\n",
    "epochs=range(1,len(acc)+1)\n",
    "plt.xlabel('Epochs')\n",
    "plt.ylabel('Accuracy')\n",
    "plt.plot(epochs, acc, 'bo', label='Training acc')\n",
    "plt.plot(epochs, val_acc, 'b', label='Validation acc')\n",
    "plt.title('Training and validation accuracy')\n",
    "plt.legend()\n",
    "plt.savefig('fruit_image_classification_101_classes_fine tuning_vgg16_data augmentation_1a',format='png')\n",
    "plt.figure()\n",
    "\n",
    "plt.plot(epochs, loss, 'bo', label='Training loss')\n",
    "plt.plot(epochs, val_loss, 'b', label='Validation loss')\n",
    "plt.title('Training and validation loss')\n",
    "plt.xlabel('Epochs')\n",
    "plt.ylabel('Loss')\n",
    "plt.legend()\n",
    "plt.savefig('fruit_image_classification_101_classes_fine tuning_vgg16_data augmentation_1b',format='png')\n",
    "plt.show()"
   ]
  },
  {
   "cell_type": "markdown",
   "metadata": {},
   "source": [
    "## Loading the Best Model"
   ]
  },
  {
   "cell_type": "code",
   "execution_count": 16,
   "metadata": {},
   "outputs": [],
   "source": [
    "from tensorflow.python.keras.models import load_model\n",
    "\n",
    "best_model = load_model('VGG16_fruit_image_classification_best_model_101_classes.h5')"
   ]
  },
  {
   "cell_type": "markdown",
   "metadata": {},
   "source": [
    "## Evaluating the Best Model"
   ]
  },
  {
   "cell_type": "code",
   "execution_count": 17,
   "metadata": {},
   "outputs": [
    {
     "name": "stdout",
     "output_type": "stream",
     "text": [
      "549/549 [==============================] - 47s 86ms/step - loss: 0.0058 - categorical_accuracy: 0.9983\n",
      "Test-set classification accuracy: 99.83%\n"
     ]
    }
   ],
   "source": [
    "steps_test=int(17540/32)\n",
    "result = best_model.evaluate_generator(validation_generator, steps=steps_test,verbose=1)\n",
    "print(\"Test-set classification accuracy: {0:.2%}\".format(result[1]))"
   ]
  },
  {
   "cell_type": "markdown",
   "metadata": {},
   "source": [
    "## Unfreeze Some Layers in the Convolutional Base\n",
    "The first 3 steps of fine-tuning a network (mentioned above) have been completed. Now, I will unfreeze the `conv_base` and then freeze/unfreeze individual layers inside it. I will fine-tune the last three convolutional layers, which means all layers up to `block4_pool` should be frozen, and the layers `block5_conv1`, `block5_conv2`, and `block5_conv3` should be trainable."
   ]
  },
  {
   "cell_type": "code",
   "execution_count": 18,
   "metadata": {},
   "outputs": [],
   "source": [
    "conv_base.trainable = True\n",
    "\n",
    "set_trainable = False\n",
    "for layer in conv_base.layers:\n",
    "    if layer.name == 'block5_conv1':\n",
    "        set_trainable = True\n",
    "    if set_trainable:\n",
    "        layer.trainable = True\n",
    "    else:\n",
    "        layer.trainable = False"
   ]
  },
  {
   "cell_type": "markdown",
   "metadata": {},
   "source": [
    "## Jointly train both the Unfrozen Layers and the added Classifier"
   ]
  },
  {
   "cell_type": "code",
   "execution_count": 19,
   "metadata": {},
   "outputs": [],
   "source": [
    "filepath=\"VGG16_fine_tuning_fruit_image_classification_best_model_101_classes.h5\"\n",
    "checkpoint = ModelCheckpoint(filepath, save_best_only=True)\n",
    "callbacks_list = [checkpoint]"
   ]
  },
  {
   "cell_type": "code",
   "execution_count": 20,
   "metadata": {},
   "outputs": [],
   "source": [
    "best_model.compile(loss='categorical_crossentropy',optimizer=optimizers.Adam(lr=1e-5),metrics=['categorical_accuracy'])"
   ]
  },
  {
   "cell_type": "code",
   "execution_count": 21,
   "metadata": {},
   "outputs": [
    {
     "name": "stdout",
     "output_type": "stream",
     "text": [
      "Epoch 1/30\n",
      "549/549 [==============================] - 49s 89ms/step - loss: 0.0062 - categorical_accuracy: 0.9989\n",
      "1634/1634 [==============================] - 479s 293ms/step - loss: 6.7654e-04 - categorical_accuracy: 0.9998 - val_loss: 0.0062 - val_categorical_accuracy: 0.9989\n",
      "Epoch 2/30\n",
      "549/549 [==============================] - 49s 89ms/step - loss: 0.0030 - categorical_accuracy: 0.9995\n",
      "1634/1634 [==============================] - 478s 293ms/step - loss: 5.4380e-04 - categorical_accuracy: 0.9999 - val_loss: 0.0030 - val_categorical_accuracy: 0.9995\n",
      "Epoch 3/30\n",
      "549/549 [==============================] - 49s 89ms/step - loss: 0.0026 - categorical_accuracy: 0.9998\n",
      "1634/1634 [==============================] - 478s 293ms/step - loss: 3.4776e-04 - categorical_accuracy: 0.9999 - val_loss: 0.0026 - val_categorical_accuracy: 0.9998\n",
      "Epoch 4/30\n",
      "549/549 [==============================] - 49s 89ms/step - loss: 0.0322 - categorical_accuracy: 0.9961\n",
      "1634/1634 [==============================] - 477s 292ms/step - loss: 6.8258e-04 - categorical_accuracy: 0.9998 - val_loss: 0.0322 - val_categorical_accuracy: 0.9961\n",
      "Epoch 5/30\n",
      "549/549 [==============================] - 49s 89ms/step - loss: 0.0042 - categorical_accuracy: 0.9992\n",
      "1634/1634 [==============================] - 477s 292ms/step - loss: 4.2549e-04 - categorical_accuracy: 0.9998 - val_loss: 0.0042 - val_categorical_accuracy: 0.9992\n",
      "Epoch 6/30\n",
      "549/549 [==============================] - 49s 89ms/step - loss: 0.0035 - categorical_accuracy: 0.9994\n",
      "1634/1634 [==============================] - 477s 292ms/step - loss: 2.7295e-04 - categorical_accuracy: 0.9999 - val_loss: 0.0035 - val_categorical_accuracy: 0.9994\n",
      "Epoch 7/30\n",
      "549/549 [==============================] - 49s 89ms/step - loss: 0.0245 - categorical_accuracy: 0.9961\n",
      "1634/1634 [==============================] - 477s 292ms/step - loss: 5.0081e-04 - categorical_accuracy: 0.9999 - val_loss: 0.0245 - val_categorical_accuracy: 0.9961\n",
      "Epoch 8/30\n",
      "549/549 [==============================] - 49s 89ms/step - loss: 0.0030 - categorical_accuracy: 0.9997\n",
      "1634/1634 [==============================] - 477s 292ms/step - loss: 2.2329e-04 - categorical_accuracy: 0.9999 - val_loss: 0.0030 - val_categorical_accuracy: 0.9997\n",
      "Epoch 9/30\n",
      "549/549 [==============================] - 49s 89ms/step - loss: 0.0130 - categorical_accuracy: 0.9981\n",
      "1634/1634 [==============================] - 477s 292ms/step - loss: 3.9012e-04 - categorical_accuracy: 1.0000 - val_loss: 0.0130 - val_categorical_accuracy: 0.9981\n",
      "Epoch 10/30\n",
      "549/549 [==============================] - 49s 89ms/step - loss: 0.0061 - categorical_accuracy: 0.9985\n",
      "1634/1634 [==============================] - 477s 292ms/step - loss: 3.5442e-04 - categorical_accuracy: 0.9998 - val_loss: 0.0061 - val_categorical_accuracy: 0.9985\n",
      "Epoch 11/30\n",
      "549/549 [==============================] - 49s 89ms/step - loss: 0.0031 - categorical_accuracy: 0.9995\n",
      "1634/1634 [==============================] - 476s 292ms/step - loss: 4.1634e-04 - categorical_accuracy: 0.9999 - val_loss: 0.0031 - val_categorical_accuracy: 0.9995\n",
      "Epoch 12/30\n",
      "549/549 [==============================] - 49s 89ms/step - loss: 0.0048 - categorical_accuracy: 0.9994\n",
      "1634/1634 [==============================] - 476s 292ms/step - loss: 3.9853e-04 - categorical_accuracy: 0.9999 - val_loss: 0.0048 - val_categorical_accuracy: 0.9994\n",
      "Epoch 13/30\n",
      "549/549 [==============================] - 57s 104ms/step - loss: 0.0057 - categorical_accuracy: 0.9994\n",
      "1634/1634 [==============================] - 530s 324ms/step - loss: 4.3001e-05 - categorical_accuracy: 1.0000 - val_loss: 0.0057 - val_categorical_accuracy: 0.9994\n",
      "Epoch 14/30\n",
      "549/549 [==============================] - 61s 112ms/step - loss: 0.0046 - categorical_accuracy: 0.9993\n",
      "1634/1634 [==============================] - 620s 379ms/step - loss: 1.8963e-04 - categorical_accuracy: 0.9999 - val_loss: 0.0046 - val_categorical_accuracy: 0.9993\n",
      "Epoch 15/30\n",
      "549/549 [==============================] - 57s 103ms/step - loss: 0.0060 - categorical_accuracy: 0.9992\n",
      "1634/1634 [==============================] - 570s 349ms/step - loss: 4.8634e-04 - categorical_accuracy: 0.9999 - val_loss: 0.0060 - val_categorical_accuracy: 0.9992\n",
      "Epoch 16/30\n",
      "549/549 [==============================] - 55s 100ms/step - loss: 0.0077 - categorical_accuracy: 0.9991\n",
      "1634/1634 [==============================] - 569s 348ms/step - loss: 6.4674e-04 - categorical_accuracy: 0.9998 - val_loss: 0.0077 - val_categorical_accuracy: 0.9991\n",
      "Epoch 17/30\n",
      "549/549 [==============================] - 55s 100ms/step - loss: 0.0062 - categorical_accuracy: 0.9993\n",
      "1634/1634 [==============================] - 563s 344ms/step - loss: 1.9429e-04 - categorical_accuracy: 0.9999 - val_loss: 0.0062 - val_categorical_accuracy: 0.9993\n",
      "Epoch 18/30\n",
      "549/549 [==============================] - 53s 96ms/step - loss: 0.0055 - categorical_accuracy: 0.9995\n",
      "1634/1634 [==============================] - 531s 325ms/step - loss: 3.4704e-05 - categorical_accuracy: 1.0000 - val_loss: 0.0055 - val_categorical_accuracy: 0.9995\n",
      "Epoch 19/30\n",
      "549/549 [==============================] - 53s 96ms/step - loss: 0.0091 - categorical_accuracy: 0.99780s - loss: 0.0092 - categorical_accuracy\n",
      "1634/1634 [==============================] - 529s 324ms/step - loss: 3.3193e-04 - categorical_accuracy: 0.9999 - val_loss: 0.0091 - val_categorical_accuracy: 0.9978\n",
      "Epoch 20/30\n",
      "549/549 [==============================] - 49s 89ms/step - loss: 0.0094 - categorical_accuracy: 0.9977\n",
      "1634/1634 [==============================] - 494s 302ms/step - loss: 2.2988e-04 - categorical_accuracy: 0.9999 - val_loss: 0.0094 - val_categorical_accuracy: 0.9977\n",
      "Epoch 21/30\n",
      "549/549 [==============================] - 49s 89ms/step - loss: 0.0031 - categorical_accuracy: 0.9996\n",
      "1634/1634 [==============================] - 477s 292ms/step - loss: 2.9356e-05 - categorical_accuracy: 1.0000 - val_loss: 0.0031 - val_categorical_accuracy: 0.9996\n",
      "Epoch 22/30\n",
      "549/549 [==============================] - 49s 89ms/step - loss: 0.0037 - categorical_accuracy: 0.9994\n",
      "1634/1634 [==============================] - 477s 292ms/step - loss: 8.1918e-06 - categorical_accuracy: 1.0000 - val_loss: 0.0037 - val_categorical_accuracy: 0.9994\n",
      "Epoch 23/30\n",
      "549/549 [==============================] - 49s 89ms/step - loss: 0.0041 - categorical_accuracy: 0.9993\n",
      "1634/1634 [==============================] - 477s 292ms/step - loss: 5.7060e-04 - categorical_accuracy: 0.9998 - val_loss: 0.0041 - val_categorical_accuracy: 0.9993\n",
      "Epoch 24/30\n",
      "549/549 [==============================] - 49s 89ms/step - loss: 0.0030 - categorical_accuracy: 0.9997\n",
      "1634/1634 [==============================] - 477s 292ms/step - loss: 7.4951e-05 - categorical_accuracy: 1.0000 - val_loss: 0.0030 - val_categorical_accuracy: 0.9997\n",
      "Epoch 25/30\n",
      "549/549 [==============================] - 49s 90ms/step - loss: 0.0072 - categorical_accuracy: 0.9986\n",
      "1634/1634 [==============================] - 482s 295ms/step - loss: 8.0078e-04 - categorical_accuracy: 0.9998 - val_loss: 0.0072 - val_categorical_accuracy: 0.9986\n",
      "Epoch 26/30\n",
      "549/549 [==============================] - 49s 89ms/step - loss: 0.0034 - categorical_accuracy: 0.9995\n",
      "1634/1634 [==============================] - 477s 292ms/step - loss: 2.2552e-04 - categorical_accuracy: 0.9999 - val_loss: 0.0034 - val_categorical_accuracy: 0.9995\n",
      "Epoch 27/30\n",
      "549/549 [==============================] - 49s 89ms/step - loss: 0.0034 - categorical_accuracy: 0.9996\n",
      "1634/1634 [==============================] - 477s 292ms/step - loss: 2.8763e-04 - categorical_accuracy: 0.9999 - val_loss: 0.0034 - val_categorical_accuracy: 0.9996\n",
      "Epoch 28/30\n",
      "549/549 [==============================] - 49s 89ms/step - loss: 0.0052 - categorical_accuracy: 0.9994\n",
      "1634/1634 [==============================] - 477s 292ms/step - loss: 2.5580e-05 - categorical_accuracy: 1.0000 - val_loss: 0.0052 - val_categorical_accuracy: 0.9994\n",
      "Epoch 29/30\n",
      "549/549 [==============================] - 49s 89ms/step - loss: 0.0033 - categorical_accuracy: 0.9996\n",
      "1634/1634 [==============================] - 477s 292ms/step - loss: 2.1474e-06 - categorical_accuracy: 1.0000 - val_loss: 0.0033 - val_categorical_accuracy: 0.9996\n",
      "Epoch 30/30\n"
     ]
    },
    {
     "name": "stdout",
     "output_type": "stream",
     "text": [
      "549/549 [==============================] - 59s 107ms/step - loss: 0.0031 - categorical_accuracy: 0.9997\n",
      "1634/1634 [==============================] - 572s 350ms/step - loss: 5.8574e-07 - categorical_accuracy: 1.0000 - val_loss: 0.0031 - val_categorical_accuracy: 0.9997\n"
     ]
    }
   ],
   "source": [
    "history = best_model.fit_generator(\n",
    "      train_generator,\n",
    "      steps_per_epoch=math.ceil(number_of_training_samples//batch_size),\n",
    "      epochs=30,\n",
    "      callbacks=callbacks_list,\n",
    "      validation_data=validation_generator,\n",
    "      validation_steps=math.ceil(number_of_test_samples//batch_size))"
   ]
  },
  {
   "cell_type": "markdown",
   "metadata": {},
   "source": [
    "## Loading the Best Model after Fine Tuning"
   ]
  },
  {
   "cell_type": "code",
   "execution_count": 22,
   "metadata": {},
   "outputs": [],
   "source": [
    "best_model_fine_tuned = load_model('VGG16_fine_tuning_fruit_image_classification_best_model_101_classes.h5')"
   ]
  },
  {
   "cell_type": "markdown",
   "metadata": {},
   "source": [
    "## Evaluating the Best Model after Fine Tuning"
   ]
  },
  {
   "cell_type": "code",
   "execution_count": 23,
   "metadata": {},
   "outputs": [
    {
     "name": "stdout",
     "output_type": "stream",
     "text": [
      "549/549 [==============================] - 58s 105ms/step - loss: 0.0026 - categorical_accuracy: 0.9998\n",
      "Test-set classification accuracy: 99.98%\n"
     ]
    }
   ],
   "source": [
    "steps_test=int(17540/32)\n",
    "result = best_model_fine_tuned.evaluate_generator(validation_generator, steps=steps_test,verbose=1)\n",
    "print(\"Test-set classification accuracy: {0:.2%}\".format(result[1]))"
   ]
  }
 ],
 "metadata": {
  "kernelspec": {
   "display_name": "Python 3",
   "language": "python",
   "name": "python3"
  },
  "language_info": {
   "codemirror_mode": {
    "name": "ipython",
    "version": 3
   },
   "file_extension": ".py",
   "mimetype": "text/x-python",
   "name": "python",
   "nbconvert_exporter": "python",
   "pygments_lexer": "ipython3",
   "version": "3.6.8"
  }
 },
 "nbformat": 4,
 "nbformat_minor": 2
}
