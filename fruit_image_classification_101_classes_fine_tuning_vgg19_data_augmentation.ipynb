{
 "cells": [
  {
   "cell_type": "markdown",
   "metadata": {},
   "source": [
    "# Fruit Image Classification using VGG19 and Fine Tuning\n",
    "This notebook is written and executed by **Dr Raheel Siddiqi** on 27-05-2019. The notebook presents an experiment to classify fruit images using *fine tuning*. *Fruits 360 dataset* (containing 52262 training images and 17540 test images belonging to 101 fruit classes) has been exploited for the task. \n",
    "The model designed uses **VGG19** pre-trained model as the convolutional base. The steps for fine-tuning a network are as follows:\n",
    "1. Add the custom network on top of an already-trained base network.\n",
    "2. Freeze the base network.\n",
    "3. Train the part that has been added.\n",
    "4. Unfreeze some layers in the base network.\n",
    "5. Jointly train both these layers and the part that has been added.\n",
    "\n",
    "First I execute the first three steps which are the same as *transfer learning*.\n",
    "\n",
    "## Tensorflow and Keras version used"
   ]
  },
  {
   "cell_type": "code",
   "execution_count": 1,
   "metadata": {},
   "outputs": [
    {
     "name": "stdout",
     "output_type": "stream",
     "text": [
      "Tensorflow Version:  1.13.1\n",
      "Keras Version:  2.2.4-tf\n"
     ]
    }
   ],
   "source": [
    "import tensorflow as tf\n",
    "from tensorflow.python import keras\n",
    "\n",
    "print('Tensorflow Version: ', tf.__version__)\n",
    "print('Keras Version: ', keras.__version__)"
   ]
  },
  {
   "cell_type": "markdown",
   "metadata": {},
   "source": [
    "## Adding Classifier on top of the pre-trained VGG16 Convolutional Base and freezing the Convolutional Base"
   ]
  },
  {
   "cell_type": "code",
   "execution_count": 2,
   "metadata": {},
   "outputs": [
    {
     "name": "stdout",
     "output_type": "stream",
     "text": [
      "WARNING:tensorflow:From C:\\Users\\Raheel\\Anaconda3\\envs\\EnvName\\lib\\site-packages\\tensorflow\\python\\ops\\resource_variable_ops.py:435: colocate_with (from tensorflow.python.framework.ops) is deprecated and will be removed in a future version.\n",
      "Instructions for updating:\n",
      "Colocations handled automatically by placer.\n"
     ]
    }
   ],
   "source": [
    "from tensorflow.python.keras.applications import VGG19\n",
    "\n",
    "conv_base=VGG19(weights='imagenet',include_top=False,input_shape=(100,100,3))"
   ]
  },
  {
   "cell_type": "code",
   "execution_count": 3,
   "metadata": {},
   "outputs": [
    {
     "name": "stdout",
     "output_type": "stream",
     "text": [
      "_________________________________________________________________\n",
      "Layer (type)                 Output Shape              Param #   \n",
      "=================================================================\n",
      "input_1 (InputLayer)         (None, 100, 100, 3)       0         \n",
      "_________________________________________________________________\n",
      "block1_conv1 (Conv2D)        (None, 100, 100, 64)      1792      \n",
      "_________________________________________________________________\n",
      "block1_conv2 (Conv2D)        (None, 100, 100, 64)      36928     \n",
      "_________________________________________________________________\n",
      "block1_pool (MaxPooling2D)   (None, 50, 50, 64)        0         \n",
      "_________________________________________________________________\n",
      "block2_conv1 (Conv2D)        (None, 50, 50, 128)       73856     \n",
      "_________________________________________________________________\n",
      "block2_conv2 (Conv2D)        (None, 50, 50, 128)       147584    \n",
      "_________________________________________________________________\n",
      "block2_pool (MaxPooling2D)   (None, 25, 25, 128)       0         \n",
      "_________________________________________________________________\n",
      "block3_conv1 (Conv2D)        (None, 25, 25, 256)       295168    \n",
      "_________________________________________________________________\n",
      "block3_conv2 (Conv2D)        (None, 25, 25, 256)       590080    \n",
      "_________________________________________________________________\n",
      "block3_conv3 (Conv2D)        (None, 25, 25, 256)       590080    \n",
      "_________________________________________________________________\n",
      "block3_conv4 (Conv2D)        (None, 25, 25, 256)       590080    \n",
      "_________________________________________________________________\n",
      "block3_pool (MaxPooling2D)   (None, 12, 12, 256)       0         \n",
      "_________________________________________________________________\n",
      "block4_conv1 (Conv2D)        (None, 12, 12, 512)       1180160   \n",
      "_________________________________________________________________\n",
      "block4_conv2 (Conv2D)        (None, 12, 12, 512)       2359808   \n",
      "_________________________________________________________________\n",
      "block4_conv3 (Conv2D)        (None, 12, 12, 512)       2359808   \n",
      "_________________________________________________________________\n",
      "block4_conv4 (Conv2D)        (None, 12, 12, 512)       2359808   \n",
      "_________________________________________________________________\n",
      "block4_pool (MaxPooling2D)   (None, 6, 6, 512)         0         \n",
      "_________________________________________________________________\n",
      "block5_conv1 (Conv2D)        (None, 6, 6, 512)         2359808   \n",
      "_________________________________________________________________\n",
      "block5_conv2 (Conv2D)        (None, 6, 6, 512)         2359808   \n",
      "_________________________________________________________________\n",
      "block5_conv3 (Conv2D)        (None, 6, 6, 512)         2359808   \n",
      "_________________________________________________________________\n",
      "block5_conv4 (Conv2D)        (None, 6, 6, 512)         2359808   \n",
      "_________________________________________________________________\n",
      "block5_pool (MaxPooling2D)   (None, 3, 3, 512)         0         \n",
      "=================================================================\n",
      "Total params: 20,024,384\n",
      "Trainable params: 20,024,384\n",
      "Non-trainable params: 0\n",
      "_________________________________________________________________\n"
     ]
    }
   ],
   "source": [
    "conv_base.summary()"
   ]
  },
  {
   "cell_type": "code",
   "execution_count": 4,
   "metadata": {},
   "outputs": [],
   "source": [
    "import os\n",
    "import numpy as np\n",
    "from tensorflow.python.keras.preprocessing.image import ImageDataGenerator\n",
    "from tensorflow.python.keras import models\n",
    "from tensorflow.python.keras import layers\n",
    "from tensorflow.python.keras.callbacks import ModelCheckpoint\n",
    "\n",
    "model = models.Sequential()\n",
    "model.add(conv_base)\n",
    "model.add(layers.Flatten())\n",
    "model.add(layers.Dense(512, activation='relu'))\n",
    "model.add(layers.Dense(101, activation='softmax'))\n",
    "filepath=\"VGG19_fruit_image_classification_best_model_101_classes.h5\"\n",
    "checkpoint = ModelCheckpoint(filepath, save_best_only=True)\n",
    "callbacks_list = [checkpoint]"
   ]
  },
  {
   "cell_type": "code",
   "execution_count": 5,
   "metadata": {},
   "outputs": [
    {
     "name": "stdout",
     "output_type": "stream",
     "text": [
      "_________________________________________________________________\n",
      "Layer (type)                 Output Shape              Param #   \n",
      "=================================================================\n",
      "vgg19 (Model)                (None, 3, 3, 512)         20024384  \n",
      "_________________________________________________________________\n",
      "flatten (Flatten)            (None, 4608)              0         \n",
      "_________________________________________________________________\n",
      "dense (Dense)                (None, 512)               2359808   \n",
      "_________________________________________________________________\n",
      "dense_1 (Dense)              (None, 101)               51813     \n",
      "=================================================================\n",
      "Total params: 22,436,005\n",
      "Trainable params: 22,436,005\n",
      "Non-trainable params: 0\n",
      "_________________________________________________________________\n"
     ]
    }
   ],
   "source": [
    "model.summary()"
   ]
  },
  {
   "cell_type": "markdown",
   "metadata": {},
   "source": [
    "## Setting up Training and Validation Data for the experiment"
   ]
  },
  {
   "cell_type": "code",
   "execution_count": 6,
   "metadata": {},
   "outputs": [],
   "source": [
    "train_dir='D:\\\\TensorFlow Programs\\\\fruit_image_classification_101_classes\\\\fruits\\\\fruits-360\\\\Training'"
   ]
  },
  {
   "cell_type": "code",
   "execution_count": 7,
   "metadata": {},
   "outputs": [],
   "source": [
    "validation_dir='D:\\\\TensorFlow Programs\\\\fruit_image_classification_101_classes\\\\fruits\\\\fruits-360\\\\Test'"
   ]
  },
  {
   "cell_type": "code",
   "execution_count": 8,
   "metadata": {},
   "outputs": [],
   "source": [
    "batch_size=32\n",
    "number_of_training_samples=52262\n",
    "number_of_test_samples=17540"
   ]
  },
  {
   "cell_type": "code",
   "execution_count": 9,
   "metadata": {},
   "outputs": [
    {
     "name": "stdout",
     "output_type": "stream",
     "text": [
      "Found 52262 images belonging to 101 classes.\n",
      "Found 17540 images belonging to 101 classes.\n"
     ]
    }
   ],
   "source": [
    "train_datagen = ImageDataGenerator(\n",
    "    rescale=1./255,\n",
    "    rotation_range=40,\n",
    "    width_shift_range=0.2,\n",
    "    height_shift_range=0.2,\n",
    "    shear_range=0.2,\n",
    "    zoom_range=0.2,\n",
    "    horizontal_flip=True,)\n",
    "\n",
    "# Note that the validation data should not be augmented!\n",
    "test_datagen = ImageDataGenerator(rescale=1./255)\n",
    "\n",
    "train_generator = train_datagen.flow_from_directory(\n",
    "        # This is the target directory\n",
    "        train_dir,\n",
    "        target_size=(100, 100),\n",
    "        batch_size=batch_size)\n",
    "\n",
    "validation_generator = test_datagen.flow_from_directory(\n",
    "        validation_dir,\n",
    "        target_size=(100, 100),\n",
    "        batch_size=batch_size, shuffle=False)"
   ]
  },
  {
   "cell_type": "markdown",
   "metadata": {},
   "source": [
    "## Model Training"
   ]
  },
  {
   "cell_type": "code",
   "execution_count": 10,
   "metadata": {},
   "outputs": [],
   "source": [
    "from tensorflow.python.keras import optimizers\n",
    "\n",
    "model.compile(loss='categorical_crossentropy',optimizer=optimizers.Adam(lr=1e-4),metrics=['categorical_accuracy'])"
   ]
  },
  {
   "cell_type": "code",
   "execution_count": 11,
   "metadata": {},
   "outputs": [
    {
     "name": "stdout",
     "output_type": "stream",
     "text": [
      "WARNING:tensorflow:From C:\\Users\\Raheel\\Anaconda3\\envs\\EnvName\\lib\\site-packages\\tensorflow\\python\\ops\\math_ops.py:3066: to_int32 (from tensorflow.python.ops.math_ops) is deprecated and will be removed in a future version.\n",
      "Instructions for updating:\n",
      "Use tf.cast instead.\n",
      "Epoch 1/30\n",
      "549/549 [==============================] - 70s 128ms/step - loss: 1.2361 - categorical_accuracy: 0.6032\n",
      "1634/1634 [==============================] - 1050s 643ms/step - loss: 3.1954 - categorical_accuracy: 0.2075 - val_loss: 1.2361 - val_categorical_accuracy: 0.6032\n",
      "Epoch 2/30\n",
      "549/549 [==============================] - 60s 109ms/step - loss: 0.3125 - categorical_accuracy: 0.8895\n",
      "1634/1634 [==============================] - 648s 396ms/step - loss: 0.6599 - categorical_accuracy: 0.7818 - val_loss: 0.3125 - val_categorical_accuracy: 0.8895\n",
      "Epoch 3/30\n",
      "549/549 [==============================] - 59s 107ms/step - loss: 0.1570 - categorical_accuracy: 0.9419\n",
      "1634/1634 [==============================] - 638s 391ms/step - loss: 0.2639 - categorical_accuracy: 0.9122 - val_loss: 0.1570 - val_categorical_accuracy: 0.9419\n",
      "Epoch 4/30\n",
      "549/549 [==============================] - 60s 110ms/step - loss: 0.1163 - categorical_accuracy: 0.9638s - loss: 0.1189 - cate\n",
      "1634/1634 [==============================] - 639s 391ms/step - loss: 0.1728 - categorical_accuracy: 0.9443 - val_loss: 0.1163 - val_categorical_accuracy: 0.9638\n",
      "Epoch 5/30\n",
      "549/549 [==============================] - 57s 104ms/step - loss: 0.1192 - categorical_accuracy: 0.9593\n",
      "1634/1634 [==============================] - 641s 392ms/step - loss: 0.1249 - categorical_accuracy: 0.9582 - val_loss: 0.1192 - val_categorical_accuracy: 0.9593\n",
      "Epoch 6/30\n",
      "549/549 [==============================] - 59s 108ms/step - loss: 0.0581 - categorical_accuracy: 0.9790s - loss: 0.0597 \n",
      "1634/1634 [==============================] - 645s 395ms/step - loss: 0.1126 - categorical_accuracy: 0.9644 - val_loss: 0.0581 - val_categorical_accuracy: 0.9790\n",
      "Epoch 7/30\n",
      "549/549 [==============================] - 62s 114ms/step - loss: 0.0758 - categorical_accuracy: 0.9722\n",
      "1634/1634 [==============================] - 646s 396ms/step - loss: 0.0894 - categorical_accuracy: 0.9719 - val_loss: 0.0758 - val_categorical_accuracy: 0.9722\n",
      "Epoch 8/30\n",
      "549/549 [==============================] - 61s 111ms/step - loss: 0.0634 - categorical_accuracy: 0.9751\n",
      "1634/1634 [==============================] - 650s 398ms/step - loss: 0.0742 - categorical_accuracy: 0.9763 - val_loss: 0.0634 - val_categorical_accuracy: 0.9751\n",
      "Epoch 9/30\n",
      "549/549 [==============================] - 60s 109ms/step - loss: 0.0605 - categorical_accuracy: 0.9803\n",
      "1634/1634 [==============================] - 640s 392ms/step - loss: 0.0770 - categorical_accuracy: 0.9753 - val_loss: 0.0605 - val_categorical_accuracy: 0.9803\n",
      "Epoch 10/30\n",
      "549/549 [==============================] - 63s 116ms/step - loss: 0.0727 - categorical_accuracy: 0.9759\n",
      "1634/1634 [==============================] - 645s 394ms/step - loss: 0.0573 - categorical_accuracy: 0.9821 - val_loss: 0.0727 - val_categorical_accuracy: 0.9759\n",
      "Epoch 11/30\n",
      "549/549 [==============================] - 62s 112ms/step - loss: 0.1816 - categorical_accuracy: 0.9642\n",
      "1634/1634 [==============================] - 645s 395ms/step - loss: 0.0603 - categorical_accuracy: 0.9824 - val_loss: 0.1816 - val_categorical_accuracy: 0.9642\n",
      "Epoch 12/30\n",
      "549/549 [==============================] - 64s 116ms/step - loss: 0.0802 - categorical_accuracy: 0.9750\n",
      "1634/1634 [==============================] - 643s 393ms/step - loss: 0.0485 - categorical_accuracy: 0.9852 - val_loss: 0.0802 - val_categorical_accuracy: 0.9750\n",
      "Epoch 13/30\n",
      "549/549 [==============================] - 61s 111ms/step - loss: 0.0343 - categorical_accuracy: 0.9871\n",
      "1634/1634 [==============================] - 655s 401ms/step - loss: 0.0513 - categorical_accuracy: 0.9847 - val_loss: 0.0343 - val_categorical_accuracy: 0.9871\n",
      "Epoch 14/30\n",
      "549/549 [==============================] - 59s 107ms/step - loss: 0.0961 - categorical_accuracy: 0.9693\n",
      "1634/1634 [==============================] - 640s 392ms/step - loss: 0.0514 - categorical_accuracy: 0.9852 - val_loss: 0.0961 - val_categorical_accuracy: 0.9693\n",
      "Epoch 15/30\n",
      "549/549 [==============================] - 53s 97ms/step - loss: 0.0467 - categorical_accuracy: 0.9862\n",
      "1634/1634 [==============================] - 581s 355ms/step - loss: 0.0397 - categorical_accuracy: 0.9879 - val_loss: 0.0467 - val_categorical_accuracy: 0.9862\n",
      "Epoch 16/30\n",
      "549/549 [==============================] - 54s 97ms/step - loss: 0.0200 - categorical_accuracy: 0.99290s - loss: 0.0203 - categorica\n",
      "1634/1634 [==============================] - 545s 333ms/step - loss: 0.0360 - categorical_accuracy: 0.9893 - val_loss: 0.0200 - val_categorical_accuracy: 0.9929\n",
      "Epoch 17/30\n",
      "549/549 [==============================] - 53s 97ms/step - loss: 0.0212 - categorical_accuracy: 0.99414s - loss: 0.022\n",
      "1634/1634 [==============================] - 543s 332ms/step - loss: 0.0447 - categorical_accuracy: 0.9879 - val_loss: 0.0212 - val_categorical_accuracy: 0.9941\n",
      "Epoch 18/30\n",
      "549/549 [==============================] - 66s 120ms/step - loss: 0.0393 - categorical_accuracy: 0.9886\n",
      "1634/1634 [==============================] - 630s 385ms/step - loss: 0.0354 - categorical_accuracy: 0.9892 - val_loss: 0.0393 - val_categorical_accuracy: 0.9886\n",
      "Epoch 19/30\n",
      "549/549 [==============================] - 66s 119ms/step - loss: 0.0436 - categorical_accuracy: 0.9888\n",
      "1634/1634 [==============================] - 776s 475ms/step - loss: 0.0424 - categorical_accuracy: 0.9889 - val_loss: 0.0436 - val_categorical_accuracy: 0.9888\n",
      "Epoch 20/30\n",
      "549/549 [==============================] - 59s 107ms/step - loss: 0.1140 - categorical_accuracy: 0.9813\n",
      "1634/1634 [==============================] - 596s 365ms/step - loss: 0.0322 - categorical_accuracy: 0.9910 - val_loss: 0.1140 - val_categorical_accuracy: 0.9813\n",
      "Epoch 21/30\n",
      "549/549 [==============================] - 58s 106ms/step - loss: 0.0296 - categorical_accuracy: 0.9905\n",
      "1634/1634 [==============================] - 577s 353ms/step - loss: 0.0354 - categorical_accuracy: 0.9899 - val_loss: 0.0296 - val_categorical_accuracy: 0.9905\n",
      "Epoch 22/30\n",
      "549/549 [==============================] - 58s 106ms/step - loss: 0.0614 - categorical_accuracy: 0.9788\n",
      "1634/1634 [==============================] - 584s 358ms/step - loss: 0.0248 - categorical_accuracy: 0.9931 - val_loss: 0.0614 - val_categorical_accuracy: 0.9788\n",
      "Epoch 23/30\n",
      "549/549 [==============================] - 58s 106ms/step - loss: 0.0534 - categorical_accuracy: 0.9881\n",
      "1634/1634 [==============================] - 581s 355ms/step - loss: 0.0313 - categorical_accuracy: 0.9907 - val_loss: 0.0534 - val_categorical_accuracy: 0.9881\n",
      "Epoch 24/30\n",
      "549/549 [==============================] - 58s 106ms/step - loss: 0.0367 - categorical_accuracy: 0.9869\n",
      "1634/1634 [==============================] - 577s 353ms/step - loss: 0.0308 - categorical_accuracy: 0.9913 - val_loss: 0.0367 - val_categorical_accuracy: 0.9869\n",
      "Epoch 25/30\n",
      "549/549 [==============================] - 57s 104ms/step - loss: 0.0074 - categorical_accuracy: 0.9991s - loss: 0.0078 - categorical_ - ETA: 1s - loss: 0\n",
      "1634/1634 [==============================] - 577s 353ms/step - loss: 0.0255 - categorical_accuracy: 0.9927 - val_loss: 0.0074 - val_categorical_accuracy: 0.9991\n",
      "Epoch 26/30\n",
      "549/549 [==============================] - 57s 104ms/step - loss: 0.0436 - categorical_accuracy: 0.9876\n",
      "1634/1634 [==============================] - 577s 353ms/step - loss: 0.0223 - categorical_accuracy: 0.9938 - val_loss: 0.0436 - val_categorical_accuracy: 0.9876\n",
      "Epoch 27/30\n",
      "549/549 [==============================] - 57s 104ms/step - loss: 0.0248 - categorical_accuracy: 0.9910\n",
      "1634/1634 [==============================] - 577s 353ms/step - loss: 0.0333 - categorical_accuracy: 0.9913 - val_loss: 0.0248 - val_categorical_accuracy: 0.9910\n",
      "Epoch 28/30\n",
      "549/549 [==============================] - 57s 104ms/step - loss: 0.0296 - categorical_accuracy: 0.9920s - loss: 0.0302 - cate\n",
      "1634/1634 [==============================] - 577s 353ms/step - loss: 0.0219 - categorical_accuracy: 0.9940 - val_loss: 0.0296 - val_categorical_accuracy: 0.9920\n",
      "Epoch 29/30\n",
      "549/549 [==============================] - 57s 104ms/step - loss: 0.0180 - categorical_accuracy: 0.9953\n",
      "1634/1634 [==============================] - 577s 353ms/step - loss: 0.0283 - categorical_accuracy: 0.9922 - val_loss: 0.0180 - val_categorical_accuracy: 0.9953\n",
      "Epoch 30/30\n",
      "549/549 [==============================] - 57s 104ms/step - loss: 0.0680 - categorical_accuracy: 0.9795\n",
      "1634/1634 [==============================] - 577s 353ms/step - loss: 0.0183 - categorical_accuracy: 0.9949 - val_loss: 0.0680 - val_categorical_accuracy: 0.9795\n"
     ]
    }
   ],
   "source": [
    "import math\n",
    "\n",
    "history = model.fit_generator(\n",
    "      train_generator,\n",
    "      steps_per_epoch=math.ceil(number_of_training_samples//batch_size),\n",
    "      epochs=30,\n",
    "      callbacks=callbacks_list,\n",
    "      validation_data=validation_generator,\n",
    "      validation_steps=math.ceil(number_of_test_samples//batch_size))"
   ]
  },
  {
   "cell_type": "markdown",
   "metadata": {},
   "source": [
    "## Visualizing the Training Process"
   ]
  },
  {
   "cell_type": "code",
   "execution_count": 12,
   "metadata": {},
   "outputs": [
    {
     "data": {
      "image/png": "[encoded data removed]",
      "text/plain": [
       "<Figure size 432x288 with 1 Axes>"
      ]
     },
     "metadata": {
      "needs_background": "light"
     },
     "output_type": "display_data"
    },
    {
     "data": {
      "image/png": "[encoded data removed]",
      "text/plain": [
       "<Figure size 432x288 with 1 Axes>"
      ]
     },
     "metadata": {
      "needs_background": "light"
     },
     "output_type": "display_data"
    }
   ],
   "source": [
    "import matplotlib.pyplot as plt\n",
    "%matplotlib inline\n",
    "\n",
    "acc=history.history['categorical_accuracy']\n",
    "val_acc=history.history['val_categorical_accuracy']\n",
    "loss=history.history['loss']\n",
    "val_loss=history.history['val_loss']\n",
    "epochs=range(1,len(acc)+1)\n",
    "plt.xlabel('Epochs')\n",
    "plt.ylabel('Accuracy')\n",
    "plt.plot(epochs, acc, 'bo', label='Training acc')\n",
    "plt.plot(epochs, val_acc, 'b', label='Validation acc')\n",
    "plt.title('Training and validation accuracy')\n",
    "plt.legend()\n",
    "plt.savefig('fruit_image_classification_101_classes_fine tuning_vgg19_data augmentation_1a',format='png')\n",
    "plt.figure()\n",
    "\n",
    "plt.plot(epochs, loss, 'bo', label='Training loss')\n",
    "plt.plot(epochs, val_loss, 'b', label='Validation loss')\n",
    "plt.title('Training and validation loss')\n",
    "plt.xlabel('Epochs')\n",
    "plt.ylabel('Loss')\n",
    "plt.legend()\n",
    "plt.savefig('fruit_image_classification_101_classes_fine tuning_vgg19_data augmentation_1b',format='png')\n",
    "plt.show()"
   ]
  },
  {
   "cell_type": "markdown",
   "metadata": {},
   "source": [
    "## Loading the Best Model"
   ]
  },
  {
   "cell_type": "code",
   "execution_count": 13,
   "metadata": {},
   "outputs": [],
   "source": [
    "from tensorflow.python.keras.models import load_model\n",
    "\n",
    "best_model = load_model('VGG19_fruit_image_classification_best_model_101_classes.h5')"
   ]
  },
  {
   "cell_type": "markdown",
   "metadata": {},
   "source": [
    "## Evaluating the Best Model"
   ]
  },
  {
   "cell_type": "code",
   "execution_count": 14,
   "metadata": {},
   "outputs": [
    {
     "name": "stdout",
     "output_type": "stream",
     "text": [
      "549/549 [==============================] - 60s 109ms/step - loss: 0.0074 - categorical_accuracy: 0.9991\n",
      "Test-set classification accuracy: 99.91%\n"
     ]
    }
   ],
   "source": [
    "steps_test=int(17540/32)\n",
    "result = best_model.evaluate_generator(validation_generator, steps=steps_test,verbose=1)\n",
    "print(\"Test-set classification accuracy: {0:.2%}\".format(result[1]))"
   ]
  },
  {
   "cell_type": "markdown",
   "metadata": {},
   "source": [
    "## Unfreeze Some Layers in the Convolutional Base\n",
    "The first 3 steps of fine-tuning a network (mentioned above) have been completed. Now, I will unfreeze the `conv_base` and then freeze/unfreeze individual layers inside it. I will fine-tune the last three convolutional layers, which means all layers up to `block4_pool` should be frozen, and the layers `block5_conv1`, `block5_conv2`, and `block5_conv3` should be trainable."
   ]
  },
  {
   "cell_type": "code",
   "execution_count": 15,
   "metadata": {},
   "outputs": [],
   "source": [
    "conv_base.trainable = True\n",
    "\n",
    "set_trainable = False\n",
    "for layer in conv_base.layers:\n",
    "    if layer.name == 'block5_conv1':\n",
    "        set_trainable = True\n",
    "    if set_trainable:\n",
    "        layer.trainable = True\n",
    "    else:\n",
    "        layer.trainable = False"
   ]
  },
  {
   "cell_type": "markdown",
   "metadata": {},
   "source": [
    "## Jointly train both the Unfrozen Layers and the added Classifier"
   ]
  },
  {
   "cell_type": "code",
   "execution_count": 16,
   "metadata": {},
   "outputs": [],
   "source": [
    "filepath=\"VGG19_fine_tuning_fruit_image_classification_best_model_101_classes.h5\"\n",
    "checkpoint = ModelCheckpoint(filepath, save_best_only=True)\n",
    "callbacks_list = [checkpoint]"
   ]
  },
  {
   "cell_type": "code",
   "execution_count": 17,
   "metadata": {},
   "outputs": [],
   "source": [
    "best_model.compile(loss='categorical_crossentropy',optimizer=optimizers.Adam(lr=1e-5),metrics=['categorical_accuracy'])"
   ]
  },
  {
   "cell_type": "code",
   "execution_count": 19,
   "metadata": {},
   "outputs": [
    {
     "name": "stdout",
     "output_type": "stream",
     "text": [
      "Epoch 1/30\n",
      "549/549 [==============================] - 58s 106ms/step - loss: 0.0059 - categorical_accuracy: 0.9990\n",
      "1634/1634 [==============================] - 976s 597ms/step - loss: 0.0016 - categorical_accuracy: 0.9994 - val_loss: 0.0059 - val_categorical_accuracy: 0.9990\n",
      "Epoch 2/30\n",
      "549/549 [==============================] - 60s 109ms/step - loss: 0.0068 - categorical_accuracy: 0.9984\n",
      "1634/1634 [==============================] - 581s 356ms/step - loss: 8.7340e-04 - categorical_accuracy: 0.9997 - val_loss: 0.0068 - val_categorical_accuracy: 0.9984\n",
      "Epoch 3/30\n",
      "549/549 [==============================] - 57s 104ms/step - loss: 0.0080 - categorical_accuracy: 0.9981\n",
      "1634/1634 [==============================] - 586s 359ms/step - loss: 4.8706e-04 - categorical_accuracy: 0.9999 - val_loss: 0.0080 - val_categorical_accuracy: 0.9981\n",
      "Epoch 4/30\n",
      "549/549 [==============================] - 57s 104ms/step - loss: 0.0055 - categorical_accuracy: 0.9992\n",
      "1634/1634 [==============================] - 571s 350ms/step - loss: 9.3756e-04 - categorical_accuracy: 0.9998 - val_loss: 0.0055 - val_categorical_accuracy: 0.9992\n",
      "Epoch 5/30\n",
      "549/549 [==============================] - 57s 104ms/step - loss: 0.0186 - categorical_accuracy: 0.9940\n",
      "1634/1634 [==============================] - 571s 349ms/step - loss: 5.7850e-04 - categorical_accuracy: 0.9998 - val_loss: 0.0186 - val_categorical_accuracy: 0.9940\n",
      "Epoch 6/30\n",
      "549/549 [==============================] - 56s 102ms/step - loss: 0.0079 - categorical_accuracy: 0.9984\n",
      "1634/1634 [==============================] - 570s 349ms/step - loss: 5.4182e-04 - categorical_accuracy: 0.9999 - val_loss: 0.0079 - val_categorical_accuracy: 0.9984\n",
      "Epoch 7/30\n",
      "549/549 [==============================] - 56s 102ms/step - loss: 0.0194 - categorical_accuracy: 0.9945\n",
      "1634/1634 [==============================] - 571s 349ms/step - loss: 5.9553e-04 - categorical_accuracy: 0.9998 - val_loss: 0.0194 - val_categorical_accuracy: 0.9945\n",
      "Epoch 8/30\n",
      "549/549 [==============================] - 56s 102ms/step - loss: 0.0101 - categorical_accuracy: 0.9970\n",
      "1634/1634 [==============================] - 570s 349ms/step - loss: 6.9291e-04 - categorical_accuracy: 0.9997 - val_loss: 0.0101 - val_categorical_accuracy: 0.9970\n",
      "Epoch 9/30\n",
      "549/549 [==============================] - 56s 102ms/step - loss: 0.0085 - categorical_accuracy: 0.9976\n",
      "1634/1634 [==============================] - 570s 349ms/step - loss: 2.8460e-04 - categorical_accuracy: 0.9999 - val_loss: 0.0085 - val_categorical_accuracy: 0.9976\n",
      "Epoch 10/30\n",
      "549/549 [==============================] - 56s 102ms/step - loss: 0.0101 - categorical_accuracy: 0.9967\n",
      "1634/1634 [==============================] - 570s 349ms/step - loss: 2.0017e-04 - categorical_accuracy: 0.9999 - val_loss: 0.0101 - val_categorical_accuracy: 0.9967\n",
      "Epoch 11/30\n",
      "549/549 [==============================] - 56s 102ms/step - loss: 0.0076 - categorical_accuracy: 0.9983\n",
      "1634/1634 [==============================] - 571s 349ms/step - loss: 2.7977e-04 - categorical_accuracy: 0.9999 - val_loss: 0.0076 - val_categorical_accuracy: 0.9983\n",
      "Epoch 12/30\n",
      "549/549 [==============================] - 56s 102ms/step - loss: 0.0074 - categorical_accuracy: 0.9985\n",
      "1634/1634 [==============================] - 570s 349ms/step - loss: 3.2141e-04 - categorical_accuracy: 0.9999 - val_loss: 0.0074 - val_categorical_accuracy: 0.9985\n",
      "Epoch 13/30\n",
      "549/549 [==============================] - 56s 102ms/step - loss: 0.0102 - categorical_accuracy: 0.9981\n",
      "1634/1634 [==============================] - 570s 349ms/step - loss: 8.9984e-04 - categorical_accuracy: 0.9998 - val_loss: 0.0102 - val_categorical_accuracy: 0.9981\n",
      "Epoch 14/30\n",
      "549/549 [==============================] - 56s 102ms/step - loss: 0.0059 - categorical_accuracy: 0.9987\n",
      "1634/1634 [==============================] - 570s 349ms/step - loss: 3.2330e-04 - categorical_accuracy: 0.9999 - val_loss: 0.0059 - val_categorical_accuracy: 0.9987\n",
      "Epoch 15/30\n",
      "549/549 [==============================] - 56s 102ms/step - loss: 0.0087 - categorical_accuracy: 0.9977\n",
      "1634/1634 [==============================] - 570s 349ms/step - loss: 9.6231e-05 - categorical_accuracy: 1.0000 - val_loss: 0.0087 - val_categorical_accuracy: 0.9977\n",
      "Epoch 16/30\n",
      "549/549 [==============================] - 56s 102ms/step - loss: 0.0068 - categorical_accuracy: 0.9983\n",
      "1634/1634 [==============================] - 570s 349ms/step - loss: 4.6602e-04 - categorical_accuracy: 0.9999 - val_loss: 0.0068 - val_categorical_accuracy: 0.9983\n",
      "Epoch 17/30\n",
      "549/549 [==============================] - 56s 102ms/step - loss: 0.0047 - categorical_accuracy: 0.9995\n",
      "1634/1634 [==============================] - 571s 350ms/step - loss: 9.4532e-04 - categorical_accuracy: 0.9997 - val_loss: 0.0047 - val_categorical_accuracy: 0.9995\n",
      "Epoch 18/30\n",
      "549/549 [==============================] - 56s 102ms/step - loss: 0.0042 - categorical_accuracy: 0.9997\n",
      "1634/1634 [==============================] - 571s 350ms/step - loss: 5.0380e-04 - categorical_accuracy: 0.9999 - val_loss: 0.0042 - val_categorical_accuracy: 0.9997\n",
      "Epoch 19/30\n",
      "549/549 [==============================] - 56s 102ms/step - loss: 0.0076 - categorical_accuracy: 0.9983\n",
      "1634/1634 [==============================] - 570s 349ms/step - loss: 2.3167e-04 - categorical_accuracy: 1.0000 - val_loss: 0.0076 - val_categorical_accuracy: 0.9983\n",
      "Epoch 20/30\n",
      "549/549 [==============================] - 56s 102ms/step - loss: 0.0044 - categorical_accuracy: 0.9996s - loss: 0.0045 - ca\n",
      "1634/1634 [==============================] - 572s 350ms/step - loss: 2.3775e-04 - categorical_accuracy: 0.9999 - val_loss: 0.0044 - val_categorical_accuracy: 0.9996\n",
      "Epoch 21/30\n",
      "549/549 [==============================] - 56s 102ms/step - loss: 0.0085 - categorical_accuracy: 0.9977\n",
      "1634/1634 [==============================] - 571s 349ms/step - loss: 5.0993e-04 - categorical_accuracy: 0.9998 - val_loss: 0.0085 - val_categorical_accuracy: 0.9977\n",
      "Epoch 22/30\n",
      "549/549 [==============================] - 56s 102ms/step - loss: 0.0110 - categorical_accuracy: 0.9966\n",
      "1634/1634 [==============================] - 572s 350ms/step - loss: 1.9646e-04 - categorical_accuracy: 0.9999 - val_loss: 0.0110 - val_categorical_accuracy: 0.9966\n",
      "Epoch 23/30\n",
      "549/549 [==============================] - 58s 105ms/step - loss: 0.0064 - categorical_accuracy: 0.9988\n",
      "1634/1634 [==============================] - 573s 351ms/step - loss: 3.8990e-04 - categorical_accuracy: 0.9999 - val_loss: 0.0064 - val_categorical_accuracy: 0.9988\n",
      "Epoch 24/30\n",
      "549/549 [==============================] - 57s 104ms/step - loss: 0.0058 - categorical_accuracy: 0.9990\n",
      "1634/1634 [==============================] - 572s 350ms/step - loss: 9.2290e-04 - categorical_accuracy: 0.9998 - val_loss: 0.0058 - val_categorical_accuracy: 0.9990\n",
      "Epoch 25/30\n",
      "549/549 [==============================] - 56s 103ms/step - loss: 0.0046 - categorical_accuracy: 0.9995\n",
      "1634/1634 [==============================] - 571s 350ms/step - loss: 3.7124e-04 - categorical_accuracy: 0.9999 - val_loss: 0.0046 - val_categorical_accuracy: 0.9995\n",
      "Epoch 26/30\n",
      "549/549 [==============================] - 56s 102ms/step - loss: 0.0057 - categorical_accuracy: 0.9988\n",
      "1634/1634 [==============================] - 572s 350ms/step - loss: 7.0920e-04 - categorical_accuracy: 0.9998 - val_loss: 0.0057 - val_categorical_accuracy: 0.9988\n",
      "Epoch 27/30\n",
      "549/549 [==============================] - 56s 102ms/step - loss: 0.0063 - categorical_accuracy: 0.9989\n",
      "1634/1634 [==============================] - 570s 349ms/step - loss: 1.5288e-04 - categorical_accuracy: 0.9999 - val_loss: 0.0063 - val_categorical_accuracy: 0.9989\n",
      "Epoch 28/30\n",
      "549/549 [==============================] - 56s 102ms/step - loss: 0.0058 - categorical_accuracy: 0.9989\n",
      "1634/1634 [==============================] - 570s 349ms/step - loss: 4.8315e-04 - categorical_accuracy: 0.9999 - val_loss: 0.0058 - val_categorical_accuracy: 0.9989\n",
      "Epoch 29/30\n",
      "549/549 [==============================] - 56s 102ms/step - loss: 0.0092 - categorical_accuracy: 0.9979\n",
      "1634/1634 [==============================] - 570s 349ms/step - loss: 6.9506e-04 - categorical_accuracy: 0.9999 - val_loss: 0.0092 - val_categorical_accuracy: 0.9979\n",
      "Epoch 30/30\n"
     ]
    },
    {
     "name": "stdout",
     "output_type": "stream",
     "text": [
      "549/549 [==============================] - 56s 102ms/step - loss: 0.0061 - categorical_accuracy: 0.9987\n",
      "1634/1634 [==============================] - 570s 349ms/step - loss: 5.7061e-04 - categorical_accuracy: 0.9999 - val_loss: 0.0061 - val_categorical_accuracy: 0.9987\n"
     ]
    }
   ],
   "source": [
    "import math\n",
    "\n",
    "history = best_model.fit_generator(\n",
    "      train_generator,\n",
    "      steps_per_epoch=math.ceil(number_of_training_samples//batch_size),\n",
    "      epochs=30,\n",
    "      callbacks=callbacks_list,\n",
    "      validation_data=validation_generator,\n",
    "      validation_steps=math.ceil(number_of_test_samples//batch_size))"
   ]
  },
  {
   "cell_type": "markdown",
   "metadata": {},
   "source": [
    "## Loading the Best Model after Fine Tuning"
   ]
  },
  {
   "cell_type": "code",
   "execution_count": 20,
   "metadata": {},
   "outputs": [],
   "source": [
    "best_model_fine_tuned = load_model('VGG19_fine_tuning_fruit_image_classification_best_model_101_classes.h5')"
   ]
  },
  {
   "cell_type": "markdown",
   "metadata": {},
   "source": [
    "## Evaluating the Best Model after Fine Tuning"
   ]
  },
  {
   "cell_type": "code",
   "execution_count": 21,
   "metadata": {},
   "outputs": [
    {
     "name": "stdout",
     "output_type": "stream",
     "text": [
      "549/549 [==============================] - 55s 100ms/step - loss: 0.0042 - categorical_accuracy: 0.9997s - loss: 0.0042 - categorical_accu\n",
      "Test-set classification accuracy: 99.97%\n"
     ]
    }
   ],
   "source": [
    "steps_test=int(17540/32)\n",
    "result = best_model_fine_tuned.evaluate_generator(validation_generator, steps=steps_test,verbose=1)\n",
    "print(\"Test-set classification accuracy: {0:.2%}\".format(result[1]))"
   ]
  }
 ],
 "metadata": {
  "kernelspec": {
   "display_name": "Python 3",
   "language": "python",
   "name": "python3"
  },
  "language_info": {
   "codemirror_mode": {
    "name": "ipython",
    "version": 3
   },
   "file_extension": ".py",
   "mimetype": "text/x-python",
   "name": "python",
   "nbconvert_exporter": "python",
   "pygments_lexer": "ipython3",
   "version": "3.6.8"
  }
 },
 "nbformat": 4,
 "nbformat_minor": 2
}
