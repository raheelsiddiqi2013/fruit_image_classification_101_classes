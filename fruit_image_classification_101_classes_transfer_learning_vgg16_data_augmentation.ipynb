{
 "cells": [
  {
   "cell_type": "markdown",
   "metadata": {},
   "source": [
    "# Fruit Image Classification using VGG16\n",
    "This notebook is written end executed by **Dr Raheel Siddiqi** on 07-05-2019. The notebook presents an experiment to classify fruit images. [Fruits 360] (https://www.kaggle.com/moltean/fruits) dataset (containing 52262 training images and 17540 test images belonging to 101 fruit classes) has been exploited. The model designed uses VGG16 pre-trained model as the convolutional base."
   ]
  },
  {
   "cell_type": "markdown",
   "metadata": {},
   "source": [
    "## Setting up the Model"
   ]
  },
  {
   "cell_type": "code",
   "execution_count": 1,
   "metadata": {},
   "outputs": [
    {
     "name": "stdout",
     "output_type": "stream",
     "text": [
      "WARNING:tensorflow:From C:\\Users\\Raheel\\Anaconda3\\envs\\EnvName\\lib\\site-packages\\tensorflow\\python\\ops\\resource_variable_ops.py:435: colocate_with (from tensorflow.python.framework.ops) is deprecated and will be removed in a future version.\n",
      "Instructions for updating:\n",
      "Colocations handled automatically by placer.\n"
     ]
    }
   ],
   "source": [
    "from tensorflow.python.keras.applications import VGG16\n",
    "\n",
    "conv_base=VGG16(weights='imagenet',include_top=False,input_shape=(100,100,3))"
   ]
  },
  {
   "cell_type": "code",
   "execution_count": 2,
   "metadata": {},
   "outputs": [
    {
     "name": "stdout",
     "output_type": "stream",
     "text": [
      "_________________________________________________________________\n",
      "Layer (type)                 Output Shape              Param #   \n",
      "=================================================================\n",
      "input_1 (InputLayer)         (None, 100, 100, 3)       0         \n",
      "_________________________________________________________________\n",
      "block1_conv1 (Conv2D)        (None, 100, 100, 64)      1792      \n",
      "_________________________________________________________________\n",
      "block1_conv2 (Conv2D)        (None, 100, 100, 64)      36928     \n",
      "_________________________________________________________________\n",
      "block1_pool (MaxPooling2D)   (None, 50, 50, 64)        0         \n",
      "_________________________________________________________________\n",
      "block2_conv1 (Conv2D)        (None, 50, 50, 128)       73856     \n",
      "_________________________________________________________________\n",
      "block2_conv2 (Conv2D)        (None, 50, 50, 128)       147584    \n",
      "_________________________________________________________________\n",
      "block2_pool (MaxPooling2D)   (None, 25, 25, 128)       0         \n",
      "_________________________________________________________________\n",
      "block3_conv1 (Conv2D)        (None, 25, 25, 256)       295168    \n",
      "_________________________________________________________________\n",
      "block3_conv2 (Conv2D)        (None, 25, 25, 256)       590080    \n",
      "_________________________________________________________________\n",
      "block3_conv3 (Conv2D)        (None, 25, 25, 256)       590080    \n",
      "_________________________________________________________________\n",
      "block3_pool (MaxPooling2D)   (None, 12, 12, 256)       0         \n",
      "_________________________________________________________________\n",
      "block4_conv1 (Conv2D)        (None, 12, 12, 512)       1180160   \n",
      "_________________________________________________________________\n",
      "block4_conv2 (Conv2D)        (None, 12, 12, 512)       2359808   \n",
      "_________________________________________________________________\n",
      "block4_conv3 (Conv2D)        (None, 12, 12, 512)       2359808   \n",
      "_________________________________________________________________\n",
      "block4_pool (MaxPooling2D)   (None, 6, 6, 512)         0         \n",
      "_________________________________________________________________\n",
      "block5_conv1 (Conv2D)        (None, 6, 6, 512)         2359808   \n",
      "_________________________________________________________________\n",
      "block5_conv2 (Conv2D)        (None, 6, 6, 512)         2359808   \n",
      "_________________________________________________________________\n",
      "block5_conv3 (Conv2D)        (None, 6, 6, 512)         2359808   \n",
      "_________________________________________________________________\n",
      "block5_pool (MaxPooling2D)   (None, 3, 3, 512)         0         \n",
      "=================================================================\n",
      "Total params: 14,714,688\n",
      "Trainable params: 14,714,688\n",
      "Non-trainable params: 0\n",
      "_________________________________________________________________\n"
     ]
    }
   ],
   "source": [
    "conv_base.summary()"
   ]
  },
  {
   "cell_type": "code",
   "execution_count": 3,
   "metadata": {},
   "outputs": [],
   "source": [
    "import os\n",
    "import numpy as np\n",
    "from tensorflow.python.keras.preprocessing.image import ImageDataGenerator"
   ]
  },
  {
   "cell_type": "code",
   "execution_count": 4,
   "metadata": {},
   "outputs": [],
   "source": [
    "from tensorflow.python.keras import models\n",
    "from tensorflow.python.keras import layers\n",
    "\n",
    "model = models.Sequential()\n",
    "model.add(conv_base)\n",
    "model.add(layers.Flatten())\n",
    "model.add(layers.Dense(512, activation='relu'))\n",
    "model.add(layers.Dense(101, activation='softmax'))"
   ]
  },
  {
   "cell_type": "code",
   "execution_count": 5,
   "metadata": {},
   "outputs": [
    {
     "name": "stdout",
     "output_type": "stream",
     "text": [
      "_________________________________________________________________\n",
      "Layer (type)                 Output Shape              Param #   \n",
      "=================================================================\n",
      "vgg16 (Model)                (None, 3, 3, 512)         14714688  \n",
      "_________________________________________________________________\n",
      "flatten (Flatten)            (None, 4608)              0         \n",
      "_________________________________________________________________\n",
      "dense (Dense)                (None, 512)               2359808   \n",
      "_________________________________________________________________\n",
      "dense_1 (Dense)              (None, 101)               51813     \n",
      "=================================================================\n",
      "Total params: 17,126,309\n",
      "Trainable params: 17,126,309\n",
      "Non-trainable params: 0\n",
      "_________________________________________________________________\n"
     ]
    }
   ],
   "source": [
    "model.summary()"
   ]
  },
  {
   "cell_type": "markdown",
   "metadata": {},
   "source": [
    "## Setting up Training and Validation Data"
   ]
  },
  {
   "cell_type": "code",
   "execution_count": 6,
   "metadata": {},
   "outputs": [],
   "source": [
    "train_dir='D:\\\\TensorFlow Programs\\\\fruit_image_classification_101_classes\\\\fruits\\\\fruits-360\\\\Training'"
   ]
  },
  {
   "cell_type": "code",
   "execution_count": 7,
   "metadata": {},
   "outputs": [],
   "source": [
    "validation_dir='D:\\\\TensorFlow Programs\\\\fruit_image_classification_101_classes\\\\fruits\\\\fruits-360\\\\Test'"
   ]
  },
  {
   "cell_type": "code",
   "execution_count": 8,
   "metadata": {},
   "outputs": [],
   "source": [
    "from tensorflow.python.keras import optimizers\n",
    "\n",
    "model.compile(loss='categorical_crossentropy',optimizer=optimizers.Adam(lr=1e-4),metrics=['categorical_accuracy'])"
   ]
  },
  {
   "cell_type": "code",
   "execution_count": 9,
   "metadata": {},
   "outputs": [
    {
     "name": "stdout",
     "output_type": "stream",
     "text": [
      "Found 52262 images belonging to 101 classes.\n",
      "Found 17540 images belonging to 101 classes.\n"
     ]
    }
   ],
   "source": [
    "train_datagen = ImageDataGenerator(\n",
    "    rescale=1./255,\n",
    "    rotation_range=40,\n",
    "    width_shift_range=0.2,\n",
    "    height_shift_range=0.2,\n",
    "    shear_range=0.2,\n",
    "    zoom_range=0.2,\n",
    "    horizontal_flip=True,)\n",
    "\n",
    "# Note that the validation data should not be augmented!\n",
    "test_datagen = ImageDataGenerator(rescale=1./255)\n",
    "\n",
    "train_generator = train_datagen.flow_from_directory(\n",
    "        # This is the target directory\n",
    "        train_dir,\n",
    "        target_size=(100, 100),\n",
    "        batch_size=32)\n",
    "\n",
    "validation_generator = test_datagen.flow_from_directory(\n",
    "        validation_dir,\n",
    "        target_size=(100, 100),\n",
    "        batch_size=32, shuffle=False)"
   ]
  },
  {
   "cell_type": "markdown",
   "metadata": {},
   "source": [
    "## Model Training"
   ]
  },
  {
   "cell_type": "code",
   "execution_count": 10,
   "metadata": {},
   "outputs": [
    {
     "name": "stdout",
     "output_type": "stream",
     "text": [
      "WARNING:tensorflow:From C:\\Users\\Raheel\\Anaconda3\\envs\\EnvName\\lib\\site-packages\\tensorflow\\python\\ops\\math_ops.py:3066: to_int32 (from tensorflow.python.ops.math_ops) is deprecated and will be removed in a future version.\n",
      "Instructions for updating:\n",
      "Use tf.cast instead.\n",
      "Epoch 1/50\n",
      "549/549 [==============================] - 50s 91ms/step - loss: 0.1555 - categorical_accuracy: 0.9505\n",
      "1634/1634 [==============================] - 836s 512ms/step - loss: 0.7376 - categorical_accuracy: 0.8004 - val_loss: 0.1555 - val_categorical_accuracy: 0.9505\n",
      "Epoch 2/50\n",
      "549/549 [==============================] - 47s 86ms/step - loss: 0.0563 - categorical_accuracy: 0.9816\n",
      "1634/1634 [==============================] - 481s 294ms/step - loss: 0.1110 - categorical_accuracy: 0.9652 - val_loss: 0.0563 - val_categorical_accuracy: 0.9816\n",
      "Epoch 3/50\n",
      "549/549 [==============================] - 47s 86ms/step - loss: 0.0262 - categorical_accuracy: 0.9913\n",
      "1634/1634 [==============================] - 476s 291ms/step - loss: 0.0771 - categorical_accuracy: 0.9774 - val_loss: 0.0262 - val_categorical_accuracy: 0.9913\n",
      "Epoch 4/50\n",
      "549/549 [==============================] - 47s 86ms/step - loss: 0.0756 - categorical_accuracy: 0.9771\n",
      "1634/1634 [==============================] - 483s 296ms/step - loss: 0.0770 - categorical_accuracy: 0.9776 - val_loss: 0.0756 - val_categorical_accuracy: 0.9771\n",
      "Epoch 5/50\n",
      "549/549 [==============================] - 48s 87ms/step - loss: 0.0873 - categorical_accuracy: 0.9816\n",
      "1634/1634 [==============================] - 475s 291ms/step - loss: 0.0528 - categorical_accuracy: 0.9851 - val_loss: 0.0873 - val_categorical_accuracy: 0.9816\n",
      "Epoch 6/50\n",
      "549/549 [==============================] - 47s 86ms/step - loss: 0.2156 - categorical_accuracy: 0.9742\n",
      "1634/1634 [==============================] - 475s 291ms/step - loss: 0.1222 - categorical_accuracy: 0.9801 - val_loss: 0.2156 - val_categorical_accuracy: 0.9742\n",
      "Epoch 7/50\n",
      "549/549 [==============================] - 47s 86ms/step - loss: 0.0181 - categorical_accuracy: 0.9951\n",
      "1634/1634 [==============================] - 475s 291ms/step - loss: 0.0802 - categorical_accuracy: 0.9858 - val_loss: 0.0181 - val_categorical_accuracy: 0.9951\n",
      "Epoch 8/50\n",
      "549/549 [==============================] - 48s 87ms/step - loss: 0.1105 - categorical_accuracy: 0.9734\n",
      "1634/1634 [==============================] - 475s 291ms/step - loss: 0.0460 - categorical_accuracy: 0.9873 - val_loss: 0.1105 - val_categorical_accuracy: 0.9734\n",
      "Epoch 9/50\n",
      "549/549 [==============================] - 47s 86ms/step - loss: 0.1822 - categorical_accuracy: 0.9511\n",
      "1634/1634 [==============================] - 476s 291ms/step - loss: 0.0293 - categorical_accuracy: 0.9919 - val_loss: 0.1822 - val_categorical_accuracy: 0.9511\n",
      "Epoch 10/50\n",
      "549/549 [==============================] - 47s 86ms/step - loss: 0.0496 - categorical_accuracy: 0.9868\n",
      "1634/1634 [==============================] - 476s 291ms/step - loss: 0.0450 - categorical_accuracy: 0.9876 - val_loss: 0.0496 - val_categorical_accuracy: 0.9868\n",
      "Epoch 11/50\n",
      "549/549 [==============================] - 47s 86ms/step - loss: 0.2582 - categorical_accuracy: 0.9652\n",
      "1634/1634 [==============================] - 475s 290ms/step - loss: 0.0223 - categorical_accuracy: 0.9941 - val_loss: 0.2582 - val_categorical_accuracy: 0.9652\n",
      "Epoch 12/50\n",
      "549/549 [==============================] - 47s 86ms/step - loss: 0.0075 - categorical_accuracy: 0.9978\n",
      "1634/1634 [==============================] - 475s 291ms/step - loss: 0.0295 - categorical_accuracy: 0.9923 - val_loss: 0.0075 - val_categorical_accuracy: 0.9978\n",
      "Epoch 13/50\n",
      "549/549 [==============================] - 54s 98ms/step - loss: 0.0246 - categorical_accuracy: 0.9932\n",
      "1634/1634 [==============================] - 522s 319ms/step - loss: 0.0293 - categorical_accuracy: 0.9930 - val_loss: 0.0246 - val_categorical_accuracy: 0.9932\n",
      "Epoch 14/50\n",
      "549/549 [==============================] - 56s 102ms/step - loss: 0.0196 - categorical_accuracy: 0.9930\n",
      "1634/1634 [==============================] - 569s 348ms/step - loss: 0.0322 - categorical_accuracy: 0.9915 - val_loss: 0.0196 - val_categorical_accuracy: 0.9930\n",
      "Epoch 15/50\n",
      "549/549 [==============================] - 207s 377ms/step - loss: 0.0320 - categorical_accuracy: 0.9936\n",
      "1634/1634 [==============================] - 2148s 1s/step - loss: 0.0279 - categorical_accuracy: 0.9928 - val_loss: 0.0320 - val_categorical_accuracy: 0.9936\n",
      "Epoch 16/50\n",
      "549/549 [==============================] - 47s 86ms/step - loss: 0.0341 - categorical_accuracy: 0.9899\n",
      "1634/1634 [==============================] - 1859s 1s/step - loss: 0.0256 - categorical_accuracy: 0.9937 - val_loss: 0.0341 - val_categorical_accuracy: 0.9899\n",
      "Epoch 17/50\n",
      "549/549 [==============================] - 47s 85ms/step - loss: 0.0199 - categorical_accuracy: 0.9949\n",
      "1634/1634 [==============================] - 474s 290ms/step - loss: 0.0266 - categorical_accuracy: 0.9934 - val_loss: 0.0199 - val_categorical_accuracy: 0.9949\n",
      "Epoch 18/50\n",
      "549/549 [==============================] - 47s 85ms/step - loss: 0.0440 - categorical_accuracy: 0.9930\n",
      "1634/1634 [==============================] - 474s 290ms/step - loss: 0.0246 - categorical_accuracy: 0.9940 - val_loss: 0.0440 - val_categorical_accuracy: 0.9930\n",
      "Epoch 19/50\n",
      "549/549 [==============================] - 47s 86ms/step - loss: 0.0185 - categorical_accuracy: 0.9945\n",
      "1634/1634 [==============================] - 478s 292ms/step - loss: 0.0218 - categorical_accuracy: 0.9944 - val_loss: 0.0185 - val_categorical_accuracy: 0.9945\n",
      "Epoch 20/50\n",
      "549/549 [==============================] - 47s 86ms/step - loss: 0.0563 - categorical_accuracy: 0.9908\n",
      "1634/1634 [==============================] - 475s 290ms/step - loss: 0.0212 - categorical_accuracy: 0.9947 - val_loss: 0.0563 - val_categorical_accuracy: 0.9908\n",
      "Epoch 21/50\n",
      "549/549 [==============================] - 54s 98ms/step - loss: 0.0273 - categorical_accuracy: 0.9914\n",
      "1634/1634 [==============================] - 493s 301ms/step - loss: 0.0289 - categorical_accuracy: 0.9936 - val_loss: 0.0273 - val_categorical_accuracy: 0.9914\n",
      "Epoch 22/50\n",
      "549/549 [==============================] - 49s 89ms/step - loss: 0.0137 - categorical_accuracy: 0.9969\n",
      "1634/1634 [==============================] - 548s 335ms/step - loss: 0.0333 - categorical_accuracy: 0.9922 - val_loss: 0.0137 - val_categorical_accuracy: 0.9969\n",
      "Epoch 23/50\n",
      "549/549 [==============================] - 46s 83ms/step - loss: 0.0496 - categorical_accuracy: 0.9922\n",
      "1634/1634 [==============================] - 537s 329ms/step - loss: 0.0192 - categorical_accuracy: 0.9954 - val_loss: 0.0496 - val_categorical_accuracy: 0.9922\n",
      "Epoch 24/50\n",
      "549/549 [==============================] - 48s 88ms/step - loss: 0.0126 - categorical_accuracy: 0.9974\n",
      "1634/1634 [==============================] - 475s 290ms/step - loss: 0.0204 - categorical_accuracy: 0.9953 - val_loss: 0.0126 - val_categorical_accuracy: 0.9974\n",
      "Epoch 25/50\n",
      "549/549 [==============================] - 47s 85ms/step - loss: 0.0141 - categorical_accuracy: 0.9964\n",
      "1634/1634 [==============================] - 472s 289ms/step - loss: 0.0201 - categorical_accuracy: 0.9955 - val_loss: 0.0141 - val_categorical_accuracy: 0.9964\n",
      "Epoch 26/50\n",
      "549/549 [==============================] - 54s 98ms/step - loss: 0.0234 - categorical_accuracy: 0.9934\n",
      "1634/1634 [==============================] - 528s 323ms/step - loss: 0.0199 - categorical_accuracy: 0.9954 - val_loss: 0.0234 - val_categorical_accuracy: 0.9934\n",
      "Epoch 27/50\n",
      "549/549 [==============================] - 79s 144ms/step - loss: 0.0307 - categorical_accuracy: 0.9930\n",
      "1634/1634 [==============================] - 634s 388ms/step - loss: 0.0296 - categorical_accuracy: 0.9932 - val_loss: 0.0307 - val_categorical_accuracy: 0.9930\n",
      "Epoch 28/50\n",
      "549/549 [==============================] - 50s 91ms/step - loss: 0.0346 - categorical_accuracy: 0.9950\n",
      "1634/1634 [==============================] - 957s 586ms/step - loss: 0.0203 - categorical_accuracy: 0.9953 - val_loss: 0.0346 - val_categorical_accuracy: 0.9950\n",
      "Epoch 29/50\n",
      "549/549 [==============================] - 47s 86ms/step - loss: 0.0118 - categorical_accuracy: 0.9980\n",
      "1634/1634 [==============================] - 601s 368ms/step - loss: 0.0180 - categorical_accuracy: 0.9963 - val_loss: 0.0118 - val_categorical_accuracy: 0.9980\n"
     ]
    },
    {
     "name": "stdout",
     "output_type": "stream",
     "text": [
      "Epoch 30/50\n",
      "549/549 [==============================] - 47s 86ms/step - loss: 0.0078 - categorical_accuracy: 0.9987\n",
      "1634/1634 [==============================] - 476s 291ms/step - loss: 0.0251 - categorical_accuracy: 0.9945 - val_loss: 0.0078 - val_categorical_accuracy: 0.9987\n",
      "Epoch 31/50\n",
      "549/549 [==============================] - 47s 86ms/step - loss: 0.0171 - categorical_accuracy: 0.9968\n",
      "1634/1634 [==============================] - 475s 291ms/step - loss: 0.0156 - categorical_accuracy: 0.9965 - val_loss: 0.0171 - val_categorical_accuracy: 0.9968\n",
      "Epoch 32/50\n",
      "549/549 [==============================] - 47s 86ms/step - loss: 0.0502 - categorical_accuracy: 0.9915\n",
      "1634/1634 [==============================] - 482s 295ms/step - loss: 0.0206 - categorical_accuracy: 0.9952 - val_loss: 0.0502 - val_categorical_accuracy: 0.9915\n",
      "Epoch 33/50\n",
      "549/549 [==============================] - 56s 102ms/step - loss: 0.0190 - categorical_accuracy: 0.9964\n",
      "1634/1634 [==============================] - 544s 333ms/step - loss: 0.0238 - categorical_accuracy: 0.9945 - val_loss: 0.0190 - val_categorical_accuracy: 0.9964\n",
      "Epoch 34/50\n",
      "549/549 [==============================] - 47s 86ms/step - loss: 0.0122 - categorical_accuracy: 0.9973\n",
      "1634/1634 [==============================] - 545s 334ms/step - loss: 0.0090 - categorical_accuracy: 0.9981 - val_loss: 0.0122 - val_categorical_accuracy: 0.9973\n",
      "Epoch 35/50\n",
      "549/549 [==============================] - 52s 95ms/step - loss: 0.0338 - categorical_accuracy: 0.9910\n",
      "1634/1634 [==============================] - 486s 298ms/step - loss: 0.0306 - categorical_accuracy: 0.9937 - val_loss: 0.0338 - val_categorical_accuracy: 0.9910\n",
      "Epoch 36/50\n",
      "549/549 [==============================] - 50s 91ms/step - loss: 0.0458 - categorical_accuracy: 0.9872\n",
      "1634/1634 [==============================] - 495s 303ms/step - loss: 0.0208 - categorical_accuracy: 0.9960 - val_loss: 0.0458 - val_categorical_accuracy: 0.9872\n",
      "Epoch 37/50\n",
      "549/549 [==============================] - 50s 91ms/step - loss: 0.0083 - categorical_accuracy: 0.9978\n",
      "1634/1634 [==============================] - 495s 303ms/step - loss: 0.0141 - categorical_accuracy: 0.9965 - val_loss: 0.0083 - val_categorical_accuracy: 0.9978\n",
      "Epoch 38/50\n",
      "549/549 [==============================] - 47s 86ms/step - loss: 0.0295 - categorical_accuracy: 0.9941\n",
      "1634/1634 [==============================] - 473s 289ms/step - loss: 0.0222 - categorical_accuracy: 0.9949 - val_loss: 0.0295 - val_categorical_accuracy: 0.9941\n",
      "Epoch 39/50\n",
      "549/549 [==============================] - 47s 86ms/step - loss: 0.0230 - categorical_accuracy: 0.9957\n",
      "1634/1634 [==============================] - 474s 290ms/step - loss: 0.0129 - categorical_accuracy: 0.9971 - val_loss: 0.0230 - val_categorical_accuracy: 0.9957\n",
      "Epoch 40/50\n",
      "549/549 [==============================] - 47s 86ms/step - loss: 0.0163 - categorical_accuracy: 0.9960\n",
      "1634/1634 [==============================] - 473s 289ms/step - loss: 0.0260 - categorical_accuracy: 0.9945 - val_loss: 0.0163 - val_categorical_accuracy: 0.9960\n",
      "Epoch 41/50\n",
      "549/549 [==============================] - 47s 86ms/step - loss: 0.0279 - categorical_accuracy: 0.9970\n",
      "1634/1634 [==============================] - 473s 290ms/step - loss: 0.0164 - categorical_accuracy: 0.9962 - val_loss: 0.0279 - val_categorical_accuracy: 0.9970\n",
      "Epoch 42/50\n",
      "549/549 [==============================] - 47s 85ms/step - loss: 0.0971 - categorical_accuracy: 0.9738\n",
      "1634/1634 [==============================] - 473s 289ms/step - loss: 0.0135 - categorical_accuracy: 0.9970 - val_loss: 0.0971 - val_categorical_accuracy: 0.9738\n",
      "Epoch 43/50\n",
      "549/549 [==============================] - 47s 85ms/step - loss: 0.0174 - categorical_accuracy: 0.9958\n",
      "1634/1634 [==============================] - 471s 288ms/step - loss: 0.0384 - categorical_accuracy: 0.9929 - val_loss: 0.0174 - val_categorical_accuracy: 0.9958\n",
      "Epoch 44/50\n",
      "549/549 [==============================] - 47s 85ms/step - loss: 0.0077 - categorical_accuracy: 0.9983\n",
      "1634/1634 [==============================] - 472s 289ms/step - loss: 0.0128 - categorical_accuracy: 0.9971 - val_loss: 0.0077 - val_categorical_accuracy: 0.9983\n",
      "Epoch 45/50\n",
      "549/549 [==============================] - 47s 85ms/step - loss: 0.1769 - categorical_accuracy: 0.9867\n",
      "1634/1634 [==============================] - 471s 288ms/step - loss: 0.1275 - categorical_accuracy: 0.9900 - val_loss: 0.1769 - val_categorical_accuracy: 0.9867\n",
      "Epoch 46/50\n",
      "549/549 [==============================] - 47s 85ms/step - loss: 0.0386 - categorical_accuracy: 0.9949\n",
      "1634/1634 [==============================] - 471s 288ms/step - loss: 0.0873 - categorical_accuracy: 0.9912 - val_loss: 0.0386 - val_categorical_accuracy: 0.9949\n",
      "Epoch 47/50\n",
      "549/549 [==============================] - 47s 85ms/step - loss: 0.1019 - categorical_accuracy: 0.9860\n",
      "1634/1634 [==============================] - 471s 289ms/step - loss: 0.0205 - categorical_accuracy: 0.9960 - val_loss: 0.1019 - val_categorical_accuracy: 0.9860\n",
      "Epoch 48/50\n",
      "549/549 [==============================] - 47s 85ms/step - loss: 0.0729 - categorical_accuracy: 0.9850\n",
      "1634/1634 [==============================] - 472s 289ms/step - loss: 0.0212 - categorical_accuracy: 0.9961 - val_loss: 0.0729 - val_categorical_accuracy: 0.9850\n",
      "Epoch 49/50\n",
      "549/549 [==============================] - 47s 85ms/step - loss: 0.0253 - categorical_accuracy: 0.9929\n",
      "1634/1634 [==============================] - 472s 289ms/step - loss: 0.0217 - categorical_accuracy: 0.9961 - val_loss: 0.0253 - val_categorical_accuracy: 0.9929\n",
      "Epoch 50/50\n",
      "549/549 [==============================] - 47s 85ms/step - loss: 0.0071 - categorical_accuracy: 0.9975\n",
      "1634/1634 [==============================] - 471s 288ms/step - loss: 0.0108 - categorical_accuracy: 0.9976 - val_loss: 0.0071 - val_categorical_accuracy: 0.9975\n"
     ]
    }
   ],
   "source": [
    "history = model.fit_generator(\n",
    "      train_generator,\n",
    "      steps_per_epoch=100,\n",
    "      epochs=50,\n",
    "      validation_data=validation_generator,\n",
    "      validation_steps=50)"
   ]
  },
  {
   "cell_type": "code",
   "execution_count": 12,
   "metadata": {},
   "outputs": [],
   "source": [
    "import matplotlib.pyplot as plt"
   ]
  },
  {
   "cell_type": "code",
   "execution_count": 13,
   "metadata": {},
   "outputs": [
    {
     "data": {
      "image/png": "[encoded data removed]",
      "text/plain": [
       "<Figure size 432x288 with 1 Axes>"
      ]
     },
     "metadata": {
      "needs_background": "light"
     },
     "output_type": "display_data"
    },
    {
     "data": {
      "image/png": "[encoded data removed]",
      "text/plain": [
       "<Figure size 432x288 with 1 Axes>"
      ]
     },
     "metadata": {
      "needs_background": "light"
     },
     "output_type": "display_data"
    }
   ],
   "source": [
    "acc=history.history['categorical_accuracy']\n",
    "val_acc=history.history['val_categorical_accuracy']\n",
    "loss=history.history['loss']\n",
    "val_loss=history.history['val_loss']\n",
    "epochs=range(1,len(acc)+1)\n",
    "plt.xlabel('Epochs')\n",
    "plt.ylabel('Accuracy')\n",
    "plt.plot(epochs, acc, 'bo', label='Training acc')\n",
    "plt.plot(epochs, val_acc, 'b', label='Validation acc')\n",
    "plt.title('Training and validation accuracy')\n",
    "plt.legend()\n",
    "plt.savefig('fruit_image_classification_101_classes_transfer learning_vgg16_data augmentation_a',format='png')\n",
    "plt.figure()\n",
    "\n",
    "plt.plot(epochs, loss, 'bo', label='Training loss')\n",
    "plt.plot(epochs, val_loss, 'b', label='Validation loss')\n",
    "plt.title('Training and validation loss')\n",
    "plt.xlabel('Epochs')\n",
    "plt.ylabel('Loss')\n",
    "plt.legend()\n",
    "plt.savefig('fruit_image_classification_101_classes_transfer learning_vgg16_data augmentation_b',format='png')\n",
    "plt.show()"
   ]
  },
  {
   "cell_type": "markdown",
   "metadata": {},
   "source": [
    "## Model Evaluation"
   ]
  },
  {
   "cell_type": "code",
   "execution_count": 14,
   "metadata": {},
   "outputs": [
    {
     "name": "stdout",
     "output_type": "stream",
     "text": [
      "548\n"
     ]
    }
   ],
   "source": [
    "steps_test=int(17540/32)\n",
    "print(steps_test)"
   ]
  },
  {
   "cell_type": "code",
   "execution_count": 15,
   "metadata": {},
   "outputs": [
    {
     "name": "stdout",
     "output_type": "stream",
     "text": [
      "Test-set classification accuracy: 99.75%\n"
     ]
    }
   ],
   "source": [
    "result = model.evaluate_generator(validation_generator, steps=steps_test)\n",
    "print(\"Test-set classification accuracy: {0:.2%}\".format(result[1]))"
   ]
  }
 ],
 "metadata": {
  "kernelspec": {
   "display_name": "Python 3",
   "language": "python",
   "name": "python3"
  },
  "language_info": {
   "codemirror_mode": {
    "name": "ipython",
    "version": 3
   },
   "file_extension": ".py",
   "mimetype": "text/x-python",
   "name": "python",
   "nbconvert_exporter": "python",
   "pygments_lexer": "ipython3",
   "version": "3.6.8"
  }
 },
 "nbformat": 4,
 "nbformat_minor": 2
}
